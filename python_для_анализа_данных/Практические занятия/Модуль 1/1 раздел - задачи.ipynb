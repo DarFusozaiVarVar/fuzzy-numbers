{
 "cells": [
  {
   "cell_type": "markdown",
   "metadata": {
    "id": "Muva5nNEHMhP"
   },
   "source": [
    "# Модуль 1. Часть 1."
   ]
  },
  {
   "cell_type": "markdown",
   "metadata": {
    "id": "6rA4cx3yBuK4"
   },
   "source": [
    "**1 Последовательность чисел**\n",
    "\n",
    "Даны два целых числа m и n. Напишите программу, которая выводит все целые числа от m до n включительно в порядке возрастания, если m < n, или в порядке убывания в противном случае."
   ]
  },
  {
   "cell_type": "code",
   "execution_count": 13,
   "metadata": {
    "id": "eM03WOOHyb9v"
   },
   "outputs": [
    {
     "name": "stdout",
     "output_type": "stream",
     "text": [
      "3 \n",
      "4 \n",
      "5 \n",
      "6 \n",
      "7 \n",
      "8 \n",
      "9 \n",
      "10 \n"
     ]
    }
   ],
   "source": [
    "m = int(input())\n",
    "n = int(input())\n",
    "\n",
    "if (n>m):\n",
    "    for i in range(m, n+1, 1):\n",
    "\n",
    "        print(str(i) + ' ')\n",
    "else:\n",
    "    for i in range(n, m+1, 1):\n",
    "        print(str(i) + ' ')"
   ]
  },
  {
   "cell_type": "markdown",
   "metadata": {
    "id": "DsLxWnD9Hdxp"
   },
   "source": [
    "**2 Сумма чисел**\n",
    "\n",
    "На вход программе подается натуральное число n. Напишите программу, которая подсчитывает сумму тех чисел от 1 до n (включительно), квадрат которых оканчивается на 2, 5 или 8.\n"
   ]
  },
  {
   "cell_type": "code",
   "execution_count": null,
   "metadata": {
    "id": "aQErA9tyHhIP"
   },
   "outputs": [
    {
     "name": "stdout",
     "output_type": "stream",
     "text": [
      "500\n"
     ]
    }
   ],
   "source": [
    "#Тест:\n",
    "#при вводе 100\n",
    "#выводит 500\n",
    "\n",
    "def sm(n):\n",
    "    acc = ['2', '5', '8']\n",
    "    ns = str(n**2)[-1]\n",
    "    s = 0\n",
    "    a = 1\n",
    "    while a <= n:\n",
    "        ns = str(a**2)[-1]\n",
    "        if ns in acc:\n",
    "            s += a\n",
    "        a += 1\n",
    "    return s\n",
    "\n",
    "print(sm(100))"
   ]
  },
  {
   "cell_type": "markdown",
   "metadata": {
    "id": "UHF2yYWfH2WV"
   },
   "source": [
    "**3 Наибольшие числа**\n",
    "\n",
    "На вход программе подается натуральное число n (гарантируется, что n >= 2), а затем n различных натуральных чисел последовательности, каждое на отдельной строке. Напишите программу, которая выводит наибольшее и второе наибольшее число последовательности."
   ]
  },
  {
   "cell_type": "code",
   "execution_count": 48,
   "metadata": {
    "id": "SgTX9qzUHL7g"
   },
   "outputs": [
    {
     "name": "stdout",
     "output_type": "stream",
     "text": [
      "[10, 3]\n"
     ]
    }
   ],
   "source": [
    "def greatest_numbers(n):\n",
    "    acc = []\n",
    "    out =[]\n",
    "    for i in range(0, n):\n",
    "        acc.append(int(input()))\n",
    "    acc.sort()\n",
    "    out = acc[-1:-3:-1]\n",
    "    return out\n",
    "\n",
    "print(greatest_numbers(2))"
   ]
  },
  {
   "cell_type": "markdown",
   "metadata": {
    "id": "VvCGMi4wAs1v"
   },
   "source": [
    "**4 Только четные**\n",
    "\n",
    "Напишите программу, которая считывает последовательность из 10 целых чисел и определяет, является ли каждое из них чётным или нет. Нужно вывести \"Все четные\" или \"Не все четные\""
   ]
  },
  {
   "cell_type": "code",
   "execution_count": 51,
   "metadata": {
    "id": "fLVgmRbLHJis"
   },
   "outputs": [
    {
     "name": "stdout",
     "output_type": "stream",
     "text": [
      "не все четные\n"
     ]
    }
   ],
   "source": [
    "def odd_num(seq):\n",
    "    for i in seq:\n",
    "        if i%2 != 0:\n",
    "            return 'не все четные'\n",
    "    return 'все четные'\n",
    "    \n",
    "\n",
    "seq = []\n",
    "for i in range(0, 10):\n",
    "    seq.append(int(input()))\n",
    "print(odd_num(seq))"
   ]
  },
  {
   "cell_type": "markdown",
   "metadata": {
    "id": "tEExSLa9GWf1"
   },
   "source": [
    "**5 Количество пятёрок**\n",
    "\n",
    "На вход программе подается последовательность целых чисел от 1 до 5, каждое число на отдельной строке. Концом последовательности является любое неположительное число либо число, большее 5. Напишите программу, которая выводит количество пятерок."
   ]
  },
  {
   "cell_type": "code",
   "execution_count": 3,
   "metadata": {
    "id": "6gLSCYAvGYnF"
   },
   "outputs": [
    {
     "name": "stdout",
     "output_type": "stream",
     "text": [
      "3\n"
     ]
    }
   ],
   "source": [
    "def count_five(seq):\n",
    "    cout = 0\n",
    "    for i in seq:\n",
    "        if i < 0 or i > 5:\n",
    "            return cout\n",
    "        if i == 5:\n",
    "            cout += 1\n",
    "    return cout\n",
    "        \n",
    "\n",
    "seq = [3, 1, 4, 5, 5, 3, 5, 10, 5]\n",
    "print(count_five(seq))"
   ]
  },
  {
   "cell_type": "markdown",
   "metadata": {
    "id": "rwvZWH6FHqrJ"
   },
   "source": [
    "**6 Численный треугольник**\n",
    "\n",
    "Дано натуральное число n. Напишите программу, которая печатает численный треугольник в соответствии с примером:\n",
    "\n",
    "1\n",
    "\n",
    "22\n",
    "\n",
    "333\n",
    "\n",
    "4444\n",
    "\n",
    "55555\n",
    "\n",
    "..."
   ]
  },
  {
   "cell_type": "code",
   "execution_count": 4,
   "metadata": {
    "id": "4hGOURkeI6nF"
   },
   "outputs": [
    {
     "name": "stdout",
     "output_type": "stream",
     "text": [
      "1\n",
      "\n",
      "22\n",
      "\n",
      "333\n",
      "\n",
      "4444\n",
      "\n",
      "55555\n",
      "\n"
     ]
    }
   ],
   "source": [
    "n = int(input())\n",
    "for i in range(1, n+1):\n",
    "    print(str(i) * i + '\\n')"
   ]
  },
  {
   "cell_type": "markdown",
   "metadata": {
    "id": "2BxV5BAmMkuJ"
   },
   "source": [
    "**7 простые числа**\n",
    "\n",
    "На вход программе подается два натуральных числа a и b (a < b). Напишите программу, которая находит все простые числа от a до b включительно.\n",
    "**Примечание - число 1 простым не является.**"
   ]
  },
  {
   "cell_type": "code",
   "execution_count": null,
   "metadata": {
    "id": "aJ-ISJZbJrCq"
   },
   "outputs": [
    {
     "name": "stdout",
     "output_type": "stream",
     "text": [
      "[2, 3, 5, 7, 11, 13, 17, 19, 23, 29, 31, 37, 41, 43, 47, 53, 59, 61, 67, 71, 73, 79, 83, 89]\n"
     ]
    }
   ],
   "source": [
    "def prime(a, b):\n",
    "    out = []\n",
    "    nums = [i for i in range(2, b+1)]\n",
    "    numState = [True for i in range(2, b+1)]\n",
    "    curIndex = -1\n",
    "    for i in [2, 3, 5, 7]:\n",
    "        if i <= 3:\n",
    "            curIndex += 1\n",
    "        else:\n",
    "            curIndex += 2\n",
    "        for j in range(curIndex+i, len(nums), i): \n",
    "            numState[j] = False\n",
    "    for i in range(a-1, b-1):\n",
    "        if numState[i]:\n",
    "            out.append(nums[i])\n",
    "    return out\n",
    "\n",
    "print(prime(1, 90))"
   ]
  },
  {
   "cell_type": "markdown",
   "metadata": {
    "id": "w7QwvJANMwR1"
   },
   "source": [
    "**8 Нижний регистр**\n",
    "\n",
    "На вход программе подается строка. Напишите программу, которая подсчитывает количество буквенных символов в нижнем регистре."
   ]
  },
  {
   "cell_type": "code",
   "execution_count": null,
   "metadata": {
    "id": "19LiFRNDMv6e"
   },
   "outputs": [
    {
     "name": "stdout",
     "output_type": "stream",
     "text": [
      "4\n"
     ]
    }
   ],
   "source": [
    "n = input()\n",
    "c = 0\n",
    "for i in n:\n",
    "    if i.islower():\n",
    "        c += 1\n",
    "print(c)"
   ]
  },
  {
   "cell_type": "markdown",
   "metadata": {
    "id": "1LobKOaRGf9l"
   },
   "source": [
    "**9 Количесвто цифр**\n",
    "\n",
    "На вход программе подается строка текста. Напишите программу, которая подсчитывает количество цифр в данной строке."
   ]
  },
  {
   "cell_type": "code",
   "execution_count": null,
   "metadata": {
    "id": "uIuZ4USbGgYM"
   },
   "outputs": [
    {
     "name": "stdout",
     "output_type": "stream",
     "text": [
      "5\n"
     ]
    }
   ],
   "source": [
    "n = input()\n",
    "c = 0\n",
    "for i in n:\n",
    "    if i.isdigit():\n",
    "        c += 1\n",
    "print(c)"
   ]
  },
  {
   "cell_type": "markdown",
   "metadata": {
    "id": "ezVdnUDJG0QM"
   },
   "source": [
    "**10 Первое и последнее вхождение**\n",
    "\n",
    "На вход программе подаётся строка текста.\n",
    "\n",
    "Если в этой строке буква «f» встречается только один раз, выведите её индекс.\n",
    "\n",
    "Если она встречается два и более раза, выведите индексы её первого и последнего вхождения на одной строке, разделённые символом пробела.\n",
    "\n",
    "Если буква «f» в данной строке не встречается, следует вывести «NO»."
   ]
  },
  {
   "cell_type": "code",
   "execution_count": 7,
   "metadata": {
    "id": "rIblFlN3G0kM"
   },
   "outputs": [
    {
     "name": "stdout",
     "output_type": "stream",
     "text": [
      "0 8\n"
     ]
    }
   ],
   "source": [
    "def f_func(f):\n",
    "    f.lower()\n",
    "    start = f.find('f')\n",
    "    end = f.rfind('f')\n",
    "    if start == end and start !=1:\n",
    "        return start\n",
    "    elif start != -1:\n",
    "        return str(start) + ' ' + str(end)\n",
    "    return 'NO'\n",
    "\n",
    "f = input()\n",
    "print(f_func(f))"
   ]
  },
  {
   "cell_type": "markdown",
   "metadata": {
    "id": "JCDVR5t6Os4b"
   },
   "source": [
    "**11 Автомобильный номер** *\n",
    "\n",
    "Корректный автомобильный номер (в России) имеет следующий формат:\n",
    "\n",
    "<БУКВА><ЦИФРА><ЦИФРА><ЦИФРА><БУКВА><БУКВА>_<ЦИФРА><ЦИФРА>\n",
    "\n",
    "или (когда у номера региона 3 цифры)\n",
    "\n",
    "<БУКВА><ЦИФРА><ЦИФРА><ЦИФРА><БУКВА><БУКВА>_<ЦИФРА><ЦИФРА><ЦИФРА>\n",
    "\n",
    "где <ЦИФРА> – это любая цифра, а <БУКВА> – это одна из букв кириллицы АВЕКМНОРСТУХ\n",
    "\n",
    "Напишите программу, которая принимает на вход строку и проверяет, является ли эта строка корректным автомобильным номером. Программа должна вывести «YES» (без кавычек), если искусственный интеллект справился со своей задачей, или «NO» (без кавычек) в противном случае."
   ]
  },
  {
   "cell_type": "code",
   "execution_count": null,
   "metadata": {
    "id": "s32jSZs2WCxu"
   },
   "outputs": [
    {
     "name": "stdout",
     "output_type": "stream",
     "text": [
      "NO\n"
     ]
    }
   ],
   "source": [
    "import re\n",
    "def sernumCheck(n):\n",
    "    l = r'[АВЕКМНОРСТУХ]'\n",
    "    if re.fullmatch(r'{l}\\d{3}{l}{2}_\\d{2,3}', n):\n",
    "        return 'YES'\n",
    "    return 'NO'\n",
    "    \n",
    "\n",
    "n = 'А231РР_33'\n",
    "print(sernumCheck(n))"
   ]
  },
  {
   "cell_type": "markdown",
   "metadata": {
    "id": "YYaKz7XPWDOs"
   },
   "source": [
    "**12 Проверка никнейма**\n",
    "\n",
    "Пользователь пытается создать никнейм для своего аккаунта. Правила для корректного никнейма следующие:\n",
    "\n",
    "* никнейм должен начинаться с символа @\n",
    "* никнейм должен содержать от 5 до 15 (включительно) символов (включая первый символ @)\n",
    "* никнейм должен содержать **только** строчные буквы и цифры (помимо первого символа @)\n",
    "\n",
    "Напишите программу, которая выводит «Correct» (без кавычек), если никнейм соответствует всем вышеприведенным правилам, или «Incorrect» (без кавычек) в противном случае.\n",
    "\n",
    "Обратите внимание, что никнейму **необязательно** содержать строчные буквы и цифры одновременно, никнейм может содержать только строчные буквы или только цифры (помимо первого символа @)."
   ]
  },
  {
   "cell_type": "code",
   "execution_count": null,
   "metadata": {
    "id": "1M4T0Bu4zHj_"
   },
   "outputs": [],
   "source": []
  }
 ],
 "metadata": {
  "colab": {
   "provenance": []
  },
  "kernelspec": {
   "display_name": "Python 3",
   "name": "python3"
  },
  "language_info": {
   "codemirror_mode": {
    "name": "ipython",
    "version": 3
   },
   "file_extension": ".py",
   "mimetype": "text/x-python",
   "name": "python",
   "nbconvert_exporter": "python",
   "pygments_lexer": "ipython3",
   "version": "3.13.2"
  }
 },
 "nbformat": 4,
 "nbformat_minor": 0
}

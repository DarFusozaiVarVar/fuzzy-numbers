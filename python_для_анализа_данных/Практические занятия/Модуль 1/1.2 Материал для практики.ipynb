{
  "nbformat": 4,
  "nbformat_minor": 0,
  "metadata": {
    "colab": {
      "provenance": []
    },
    "kernelspec": {
      "name": "python3",
      "display_name": "Python 3"
    },
    "language_info": {
      "name": "python"
    }
  },
  "cells": [
    {
      "cell_type": "markdown",
      "source": [
        "# Списки\n",
        "\n",
        "Структура данных, которая в большинстве языков программирования называется массивом, в Python называется списком.\n",
        "\n",
        "Список представляет собой последовательность элементов, пронумерованных от 0, как символы в строке. Список может содержать значения **разных** типов данных, однако обычно элементы списка содержат данные одного типа, и на практике редко приходится создавать списки, содержащие элементы разных типов данных."
      ],
      "metadata": {
        "id": "kJApRw0QihcJ"
      }
    },
    {
      "cell_type": "code",
      "execution_count": null,
      "metadata": {
        "colab": {
          "base_uri": "https://localhost:8080/"
        },
        "id": "rwlDHMCFifoC",
        "outputId": "7785e417-340a-4925-f893-d2af091e2a06"
      },
      "outputs": [
        {
          "output_type": "execute_result",
          "data": {
            "text/plain": [
              "6"
            ]
          },
          "metadata": {},
          "execution_count": 1
        }
      ],
      "source": [
        "numbers = [2, 4, 6, 8, 10]\n",
        "numbers[2]"
      ]
    },
    {
      "cell_type": "code",
      "source": [
        "# создать пустой список\n",
        "\n",
        "some_list1 = []\n",
        "some_list2 = list()"
      ],
      "metadata": {
        "id": "j7R9Sjzfi6ye"
      },
      "execution_count": null,
      "outputs": []
    },
    {
      "cell_type": "code",
      "source": [
        "# Функция list() помимо создания пустого списка может преобразовывать некоторые типы объектов в списки.\n",
        "\n",
        "print(list(range(10)))\n",
        "print(list('Hello world'))"
      ],
      "metadata": {
        "colab": {
          "base_uri": "https://localhost:8080/"
        },
        "id": "4XT2JGo9jU5k",
        "outputId": "6b06348b-dc88-47b7-f779-396617e4a140"
      },
      "execution_count": null,
      "outputs": [
        {
          "output_type": "stream",
          "name": "stdout",
          "text": [
            "[0, 1, 2, 3, 4, 5, 6, 7, 8, 9]\n",
            "['H', 'e', 'l', 'l', 'o', ' ', 'w', 'o', 'r', 'l', 'd']\n"
          ]
        }
      ]
    },
    {
      "cell_type": "markdown",
      "source": [
        "Со списками работают втроенные функции len(), sum(), min(), max(), а также оператор принадлежности in"
      ],
      "metadata": {
        "id": "bVEBq_aZj7k8"
      }
    },
    {
      "cell_type": "code",
      "source": [
        "len(list(range(10)))"
      ],
      "metadata": {
        "colab": {
          "base_uri": "https://localhost:8080/"
        },
        "id": "jciq0pzGkB0K",
        "outputId": "786a0ea2-13a3-4e64-e624-c9cc6a50c25f"
      },
      "execution_count": null,
      "outputs": [
        {
          "output_type": "execute_result",
          "data": {
            "text/plain": [
              "10"
            ]
          },
          "metadata": {},
          "execution_count": 5
        }
      ]
    },
    {
      "cell_type": "code",
      "source": [
        "max([10, 5, 20, 1, 14])"
      ],
      "metadata": {
        "colab": {
          "base_uri": "https://localhost:8080/"
        },
        "id": "1PCFmRKPkKU2",
        "outputId": "2c6ee4fb-2020-440a-9ebe-ea04807bfdc9"
      },
      "execution_count": null,
      "outputs": [
        {
          "output_type": "execute_result",
          "data": {
            "text/plain": [
              "20"
            ]
          },
          "metadata": {},
          "execution_count": 6
        }
      ]
    },
    {
      "cell_type": "markdown",
      "source": [
        "Как и со строками в списках работают срезы, сложение списков (конкатенация) и умножение списка на число"
      ],
      "metadata": {
        "id": "BWgmE97VkQS5"
      }
    },
    {
      "cell_type": "code",
      "source": [
        "print([1, 2] + [3, 4])\n",
        "print([1, 2] * 3)\n",
        "print([1, 2, 3, 4, 5][1:3])"
      ],
      "metadata": {
        "colab": {
          "base_uri": "https://localhost:8080/"
        },
        "id": "7O7TPWbvkkXx",
        "outputId": "7920b7b9-efc7-4966-c8c6-cad000aab7b7"
      },
      "execution_count": null,
      "outputs": [
        {
          "output_type": "stream",
          "name": "stdout",
          "text": [
            "[1, 2, 3, 4]\n",
            "[1, 2, 1, 2, 1, 2]\n",
            "[2, 3]\n"
          ]
        }
      ]
    },
    {
      "cell_type": "markdown",
      "source": [
        "# Методы списков"
      ],
      "metadata": {
        "id": "wd3q36oblL4V"
      }
    },
    {
      "cell_type": "markdown",
      "source": [
        "**Добавление и удаление элементов**"
      ],
      "metadata": {
        "id": "4v6sge8KlaBj"
      }
    },
    {
      "cell_type": "code",
      "source": [
        "# append() добавляет один элемент в конец списка\n",
        "\n",
        "some_list = [1, 2, 3]\n",
        "some_list.append(4)\n",
        "some_list"
      ],
      "metadata": {
        "colab": {
          "base_uri": "https://localhost:8080/"
        },
        "id": "fHJccWS9kp6E",
        "outputId": "82a82f66-ed57-42c0-8ee5-28d57b3bf24c"
      },
      "execution_count": null,
      "outputs": [
        {
          "output_type": "execute_result",
          "data": {
            "text/plain": [
              "[1, 2, 3, 4]"
            ]
          },
          "metadata": {},
          "execution_count": 15
        }
      ]
    },
    {
      "cell_type": "code",
      "source": [
        "# extend() добавляет несколько элементов в конец списка. Он принимает ТОЛЬКО итерируемый объект (список, кортеж, строку) и объединяет его с текущим списком.\n",
        "\n",
        "some_list = [1, 2, 3]\n",
        "some_list.extend([4, 5, 6])\n",
        "some_list.extend('Hello world!')\n",
        "some_list"
      ],
      "metadata": {
        "colab": {
          "base_uri": "https://localhost:8080/"
        },
        "id": "FZaUh1vGmHgk",
        "outputId": "8c1312e6-7e33-44af-87fc-dac06fb2d735"
      },
      "execution_count": null,
      "outputs": [
        {
          "output_type": "execute_result",
          "data": {
            "text/plain": [
              "[1, 2, 3, 4, 5, 6, 'H', 'e', 'l', 'l', 'o', ' ', 'w', 'o', 'r', 'l', 'd', '!']"
            ]
          },
          "metadata": {},
          "execution_count": 19
        }
      ]
    },
    {
      "cell_type": "code",
      "source": [
        "# С помощью оператора del можно удалять элементы списка по определенному индексу\n",
        "# Обратите внимание на синтаксис удаления, так как он отличается от обычного вызова метода\n",
        "\n",
        "some_list = [1, 2, 3]\n",
        "del some_list[1]\n",
        "some_list"
      ],
      "metadata": {
        "colab": {
          "base_uri": "https://localhost:8080/"
        },
        "id": "C2qanDlommlm",
        "outputId": "c59f3e2e-bf81-4f1e-83f6-e07b55b993a9"
      },
      "execution_count": null,
      "outputs": [
        {
          "output_type": "execute_result",
          "data": {
            "text/plain": [
              "[1, 3]"
            ]
          },
          "metadata": {},
          "execution_count": 21
        }
      ]
    },
    {
      "cell_type": "markdown",
      "source": [
        "**Строковые методы в списках**"
      ],
      "metadata": {
        "id": "xM824CWRnEL_"
      }
    },
    {
      "cell_type": "code",
      "source": [
        "# Метод split() разбивает строку на слова, используя в качестве разделителя последовательность пробельных символов, и возвращает список из этих слов\n",
        "\n",
        "s = 'Python is the best language'\n",
        "words = s.split()\n",
        "words"
      ],
      "metadata": {
        "colab": {
          "base_uri": "https://localhost:8080/"
        },
        "id": "Pd16PDDWm2k_",
        "outputId": "dea2c3c6-51f6-4211-8ea1-5a8041c1a9a7"
      },
      "execution_count": null,
      "outputs": [
        {
          "output_type": "execute_result",
          "data": {
            "text/plain": [
              "['Python', 'is', 'the', 'best', 'language']"
            ]
          },
          "metadata": {},
          "execution_count": 22
        }
      ]
    },
    {
      "cell_type": "code",
      "source": [
        "# У метода split() есть необязательный параметр, который определяет, какой набор символов будет использоваться в качестве разделителя между элементами списка\n",
        "\n",
        "ip = '192.168.1.24'\n",
        "numbers = ip.split('.')    # указываем явно разделитель\n",
        "numbers"
      ],
      "metadata": {
        "colab": {
          "base_uri": "https://localhost:8080/"
        },
        "id": "1LFpoNTuokTK",
        "outputId": "a85731ce-d434-48c4-8e08-21bb75e3e4fe"
      },
      "execution_count": null,
      "outputs": [
        {
          "output_type": "execute_result",
          "data": {
            "text/plain": [
              "['192', '168', '1', '24']"
            ]
          },
          "metadata": {},
          "execution_count": 23
        }
      ]
    },
    {
      "cell_type": "code",
      "source": [
        "# Метод join() собирает строку из элементов списка, используя в качестве разделителя строку, к которой применяется метод\n",
        "\n",
        "words = ['Python', 'is', 'the', 'best', 'language']\n",
        "s = ' '.join(words)\n",
        "s"
      ],
      "metadata": {
        "colab": {
          "base_uri": "https://localhost:8080/",
          "height": 35
        },
        "id": "sk4wcJ8Qo4Nu",
        "outputId": "6f424d1c-ec18-41f1-8c27-760a818c6158"
      },
      "execution_count": null,
      "outputs": [
        {
          "output_type": "execute_result",
          "data": {
            "text/plain": [
              "'Python is the best language'"
            ],
            "application/vnd.google.colaboratory.intrinsic+json": {
              "type": "string"
            }
          },
          "metadata": {},
          "execution_count": 24
        }
      ]
    },
    {
      "cell_type": "markdown",
      "source": [
        "**Популярные методы списков**"
      ],
      "metadata": {
        "id": "gHgJ8k9mpzTX"
      }
    },
    {
      "cell_type": "code",
      "source": [
        "insert() - вставляет элемент в указанный индекс списка\n",
        "index() - возвращает индекс первого вхождения указанного элемента в списке\n",
        "remove() - удаляет первый элемент из списка, который равен указанному значению\n",
        "pop() - удаляет элемент из списка по указанному индексу и возвращает его значение. Если индекс не указан, удаляется последний элемент\n",
        "reverse() - меняет порядок элементов в списке на обратный\n",
        "count() - возвращает количество элементов в списке, равных указанному значению\n",
        "clear() - удаляет все элементы из списка, делая его пустым\n",
        "copy() - возвращает поверхностную копию списка\n",
        "sort() - сортирует элементы списка в порядке возрастания. Для сортировки по убыванию можно использовать reverse=True"
      ],
      "metadata": {
        "id": "uhyKwDaApZ9R"
      },
      "execution_count": null,
      "outputs": []
    },
    {
      "cell_type": "markdown",
      "source": [
        "# Списочные выражения\n",
        "\n",
        "В Python есть механизм для создания списков из неповторяющихся элементов. Такой механизм называется — списочное выражение (list comprehension)."
      ],
      "metadata": {
        "id": "RV25KomGqb5Z"
      }
    },
    {
      "cell_type": "code",
      "source": [
        "# Для создания списка целых чисел от 0 до 9 вместо\n",
        "\n",
        "numbers = []\n",
        "for i in range(10):\n",
        "    numbers.append(i)\n",
        "numbers"
      ],
      "metadata": {
        "colab": {
          "base_uri": "https://localhost:8080/"
        },
        "id": "SzSfH0yrqZyN",
        "outputId": "58536dd8-9e5e-4b98-ad97-f0873b0e0b1b"
      },
      "execution_count": null,
      "outputs": [
        {
          "output_type": "execute_result",
          "data": {
            "text/plain": [
              "[0, 1, 2, 3, 4, 5, 6, 7, 8, 9]"
            ]
          },
          "metadata": {},
          "execution_count": 25
        }
      ]
    },
    {
      "cell_type": "code",
      "source": [
        "# Можно использовать списочное выражение\n",
        "\n",
        "numbers = [i for i in range(10)]\n",
        "numbers"
      ],
      "metadata": {
        "colab": {
          "base_uri": "https://localhost:8080/"
        },
        "id": "y--pqVmhq9O4",
        "outputId": "244c3f6e-2457-487c-ce94-c06e1d7da75d"
      },
      "execution_count": null,
      "outputs": [
        {
          "output_type": "execute_result",
          "data": {
            "text/plain": [
              "[0, 1, 2, 3, 4, 5, 6, 7, 8, 9]"
            ]
          },
          "metadata": {},
          "execution_count": 27
        }
      ]
    },
    {
      "cell_type": "markdown",
      "source": [
        "Общий вид списочного выражения следующий:\n",
        "\n",
        "[**выражение** for **переменная** in **последовательность**],\n",
        "\n",
        "где **переменная** — имя некоторой переменной,\n",
        "\n",
        "**последовательность** — последовательность значений, которые принимает переменная (список, строка или объект, полученный при помощи функции range),\n",
        "\n",
        "**выражение** — некоторое выражение, как правило, зависящее от переменной"
      ],
      "metadata": {
        "id": "K3Lc0_71rHQG"
      }
    },
    {
      "cell_type": "code",
      "source": [
        "[c for c in 'abcdefg']"
      ],
      "metadata": {
        "colab": {
          "base_uri": "https://localhost:8080/"
        },
        "id": "nlMmvVwOrGiI",
        "outputId": "1d1e3c39-d943-48c4-8afb-bde02c2ba9a8"
      },
      "execution_count": null,
      "outputs": [
        {
          "output_type": "execute_result",
          "data": {
            "text/plain": [
              "['a', 'b', 'c', 'd', 'e', 'f', 'g']"
            ]
          },
          "metadata": {},
          "execution_count": 29
        }
      ]
    },
    {
      "cell_type": "code",
      "source": [
        "[int(num) for num in '123456789']"
      ],
      "metadata": {
        "colab": {
          "base_uri": "https://localhost:8080/"
        },
        "id": "nRO3uoq7p6lX",
        "outputId": "c2344f0b-ce34-49ac-bf1e-a8a25ff469c8"
      },
      "execution_count": null,
      "outputs": [
        {
          "output_type": "execute_result",
          "data": {
            "text/plain": [
              "[1, 2, 3, 4, 5, 6, 7, 8, 9]"
            ]
          },
          "metadata": {},
          "execution_count": 30
        }
      ]
    },
    {
      "cell_type": "markdown",
      "source": [
        "**Считывание входных данных c помощью списочного выражения**\n",
        "\n"
      ],
      "metadata": {
        "id": "i5DurQv-sgIB"
      }
    },
    {
      "cell_type": "code",
      "source": [
        "# Например, если сначала вводится число n – количество строк, а затем сами строки, то создать список можно так\n",
        "\n",
        "n = int(input())\n",
        "lines = [input() for _ in range(n)]\n",
        "\n",
        "# или сразу опустить описание переменной n\n",
        "\n",
        "lines = [input() for _ in range(int(input()))]"
      ],
      "metadata": {
        "id": "C8jKAxAnst1S"
      },
      "execution_count": null,
      "outputs": []
    },
    {
      "cell_type": "markdown",
      "source": [
        "**Условия в списочном выражении**"
      ],
      "metadata": {
        "id": "EAgEZAxWtB6U"
      }
    },
    {
      "cell_type": "code",
      "source": [
        "# В списочных выражениях можно использовать условный оператор\n",
        "# Например, если требуется создать список четных чисел от 0 до 20, то мы можем написать такой код\n",
        "\n",
        "evens = [i for i in range(21) if i % 2 == 0]\n",
        "evens"
      ],
      "metadata": {
        "colab": {
          "base_uri": "https://localhost:8080/"
        },
        "id": "C37s15XRtC7c",
        "outputId": "f60fa2d1-6dc1-4774-b184-a188a6e0de57"
      },
      "execution_count": null,
      "outputs": [
        {
          "output_type": "execute_result",
          "data": {
            "text/plain": [
              "[0, 2, 4, 6, 8, 10, 12, 14, 16, 18, 20]"
            ]
          },
          "metadata": {},
          "execution_count": 31
        }
      ]
    },
    {
      "cell_type": "markdown",
      "source": [
        "**Вложенные циклы**\n",
        "\n"
      ],
      "metadata": {
        "id": "dOBp0JKytOga"
      }
    },
    {
      "cell_type": "code",
      "source": [
        "# В списочном выражении можно использовать вложенные циклы\n",
        "\n",
        "# Следующий программный код\n",
        "numbers = [i * j for i in range(1, 5) for j in range(2)]\n",
        "numbers"
      ],
      "metadata": {
        "colab": {
          "base_uri": "https://localhost:8080/"
        },
        "id": "w8t894T-tRmJ",
        "outputId": "c2d10c40-083f-44f9-e802-a5f9508b3fa4"
      },
      "execution_count": null,
      "outputs": [
        {
          "output_type": "execute_result",
          "data": {
            "text/plain": [
              "[0, 1, 0, 2, 0, 3, 0, 4]"
            ]
          },
          "metadata": {},
          "execution_count": 32
        }
      ]
    },
    {
      "cell_type": "code",
      "source": [
        "# Равнозначен следующему\n",
        "\n",
        "numbers = []\n",
        "\n",
        "for i in range(1, 5):\n",
        "    for j in range(2):\n",
        "        numbers.append(i * j)\n",
        "numbers"
      ],
      "metadata": {
        "colab": {
          "base_uri": "https://localhost:8080/"
        },
        "id": "kE256Hdst2-g",
        "outputId": "b4ac48d5-ef81-4133-9e43-e230325e2539"
      },
      "execution_count": null,
      "outputs": [
        {
          "output_type": "execute_result",
          "data": {
            "text/plain": [
              "[0, 1, 0, 2, 0, 3, 0, 4]"
            ]
          },
          "metadata": {},
          "execution_count": 33
        }
      ]
    },
    {
      "cell_type": "markdown",
      "source": [
        "# Вложенные списки\n",
        "\n",
        "Элементами списков могут быть другие списки и в реальной разработке такая конструкция оказывается очень полезной."
      ],
      "metadata": {
        "id": "2MDFjstbGtEW"
      }
    },
    {
      "cell_type": "code",
      "source": [
        "my_list = [[0], [1, 2], [3, 4, 5]]\n",
        "my_list"
      ],
      "metadata": {
        "colab": {
          "base_uri": "https://localhost:8080/"
        },
        "id": "_YohBNJLG3SU",
        "outputId": "5cc462ee-58ea-4bf9-bbb9-716dea5e5c1d"
      },
      "execution_count": null,
      "outputs": [
        {
          "output_type": "execute_result",
          "data": {
            "text/plain": [
              "[[0], [1, 2], [3, 4, 5]]"
            ]
          },
          "metadata": {},
          "execution_count": 34
        }
      ]
    },
    {
      "cell_type": "markdown",
      "source": [
        "Поскольку глубина вложенности списка my_list равна двум, то такой список обычно называют двумерным списком. На практике, как правило, мы работаем с двумерными списками, реже – с трехмерными.\n",
        "\n",
        "Аналогично работе с обычными списками можно индексировать и вложенные списки, а также применять большинство функций и методов списков."
      ],
      "metadata": {
        "id": "qfDl9W6OG_yh"
      }
    },
    {
      "cell_type": "code",
      "source": [
        "my_list = [[0], [1, 2], [3, 4, 5]]\n",
        "my_list[2]"
      ],
      "metadata": {
        "colab": {
          "base_uri": "https://localhost:8080/"
        },
        "id": "h00EWnoBHBJ6",
        "outputId": "46d3a09e-2ebd-4af0-906f-011135885b85"
      },
      "execution_count": null,
      "outputs": [
        {
          "output_type": "execute_result",
          "data": {
            "text/plain": [
              "[3, 4, 5]"
            ]
          },
          "metadata": {},
          "execution_count": 35
        }
      ]
    },
    {
      "cell_type": "code",
      "source": [
        "my_list = [[0], [1, 2], [3, 4, 5]]\n",
        "my_list[2][1]"
      ],
      "metadata": {
        "colab": {
          "base_uri": "https://localhost:8080/"
        },
        "id": "C2XbkrMGHVP2",
        "outputId": "5b0bc5b9-2719-4bbe-8be4-15bf4a6f6275"
      },
      "execution_count": null,
      "outputs": [
        {
          "output_type": "execute_result",
          "data": {
            "text/plain": [
              "4"
            ]
          },
          "metadata": {},
          "execution_count": 42
        }
      ]
    },
    {
      "cell_type": "code",
      "source": [
        "my_list.append([1, 2, 3])\n",
        "my_list"
      ],
      "metadata": {
        "colab": {
          "base_uri": "https://localhost:8080/"
        },
        "id": "s9sak19pHloL",
        "outputId": "d2dfe5bd-4656-43a3-a316-b416590b4fb7"
      },
      "execution_count": null,
      "outputs": [
        {
          "output_type": "execute_result",
          "data": {
            "text/plain": [
              "[[0], [1, 2], [3, 4, 5], [1, 2, 3]]"
            ]
          },
          "metadata": {},
          "execution_count": 43
        }
      ]
    },
    {
      "cell_type": "markdown",
      "source": [
        "# Множества"
      ],
      "metadata": {
        "id": "twIXunJtvRol"
      }
    },
    {
      "cell_type": "markdown",
      "source": [
        "Множества в Python аналогичены математическим множествам, они поддерживают быстрые операции проверки наличия элемента в множестве, добавления и удаления элементов, операции объединения, пересечения и многие другие.\n",
        "\n",
        "Особенности множеств:\n",
        "\n",
        "* все элементы множества различны (уникальны), два элемента не могут иметь одинаковое значение;\n",
        "* множества неупорядочены, то есть элементы не хранятся в каком-то определенном порядке;\n",
        "* элементы множества должны относиться к неизменяемым типам данных;\n",
        "* хранящиеся в множестве элементы могут иметь разные типы данных."
      ],
      "metadata": {
        "id": "We33XNZdvUou"
      }
    },
    {
      "cell_type": "code",
      "source": [
        "# Чтобы создать множество, нужно перечислить его элементы через запятую в фигурных скобках\n",
        "\n",
        "numbers = {2, 4, 6, 8, 10}\n",
        "numbers"
      ],
      "metadata": {
        "colab": {
          "base_uri": "https://localhost:8080/"
        },
        "id": "RNgKYOPgvREt",
        "outputId": "8b6a0e5b-b5f3-4432-8c26-02a6c808c5dd"
      },
      "execution_count": 1,
      "outputs": [
        {
          "output_type": "execute_result",
          "data": {
            "text/plain": [
              "{2, 4, 6, 8, 10}"
            ]
          },
          "metadata": {},
          "execution_count": 1
        }
      ]
    },
    {
      "cell_type": "code",
      "source": [
        "# Создать пустое множество можно с помощью встроенной функции, которая называется set()\n",
        "\n",
        "myset = set()  # пустое множество"
      ],
      "metadata": {
        "id": "1bYIf22cv_8B"
      },
      "execution_count": null,
      "outputs": []
    },
    {
      "cell_type": "markdown",
      "source": [
        "**Обратите внимание — создать пустое множество с помощью пустых фигурных скобок нельзя:**"
      ],
      "metadata": {
        "id": "XEKGi6U_wIZT"
      }
    },
    {
      "cell_type": "code",
      "source": [
        "myset = {}  # создается словарь"
      ],
      "metadata": {
        "id": "nHeidtVlwKia"
      },
      "execution_count": null,
      "outputs": []
    },
    {
      "cell_type": "markdown",
      "source": [
        "Встроенная функция **set()** помимо создания пустого множества может преобразовывать некоторые типы объектов в множества.\n",
        "\n",
        "В функцию set() можно передать один аргумент. Передаваемый аргумент должен быть итерируемым объектом, таким как список, кортеж или строковое значение. Отдельные элементы объекта, передаваемого в качестве аргумента, становятся элементами множества."
      ],
      "metadata": {
        "id": "YjEftHPVwPyR"
      }
    },
    {
      "cell_type": "code",
      "source": [
        "myset1 = set(range(10))          # множество из элементов последовательности\n",
        "myset2 = set([1, 2, 3, 4, 5])    # множество из элементов списка\n",
        "myset3 = set('abcd')             # множество из элементов строки\n",
        "myset4 = set((10, 20, 30, 40))   # множество из элементов кортежа"
      ],
      "metadata": {
        "id": "ErT7xnKwwL85"
      },
      "execution_count": null,
      "outputs": []
    },
    {
      "cell_type": "markdown",
      "source": [
        "**Множества не могут содержать повторяющиеся элементы.** Если в функцию set() передать аргумент, содержащий повторяющиеся элементы, то в множестве появится только один из этих повторяющихся элементов."
      ],
      "metadata": {
        "id": "qISKXKHLwotJ"
      }
    },
    {
      "cell_type": "code",
      "source": [
        "myset1 = {2, 2, 4, 6, 6}\n",
        "myset2 = set([1, 2, 2, 3, 3])\n",
        "myset3 = set(\"aaaaabbbbccccddd\")\n",
        "\n",
        "print(myset1)\n",
        "print(myset2)\n",
        "print(myset3)"
      ],
      "metadata": {
        "colab": {
          "base_uri": "https://localhost:8080/"
        },
        "id": "hg1iD1qGwq4r",
        "outputId": "d4a0acd4-d6dd-43b8-fd24-3935b2b172f8"
      },
      "execution_count": 2,
      "outputs": [
        {
          "output_type": "stream",
          "name": "stdout",
          "text": [
            "{2, 4, 6}\n",
            "{1, 2, 3}\n",
            "{'c', 'b', 'd', 'a'}\n"
          ]
        }
      ]
    },
    {
      "cell_type": "markdown",
      "source": [
        "Если требуется создать множество, в котором каждый элемент — строковое значение, содержащее более одного символа, то строки должны передваться элементами списка"
      ],
      "metadata": {
        "id": "tQUI62q1ws_D"
      }
    },
    {
      "cell_type": "code",
      "source": [
        "myset = set(['aaa', 'bbbb', 'cc'])\n",
        "\n",
        "myset"
      ],
      "metadata": {
        "colab": {
          "base_uri": "https://localhost:8080/"
        },
        "id": "eVbndMnKw2ja",
        "outputId": "b957cac3-ef1b-4335-f1e6-8719ea418fe2"
      },
      "execution_count": 3,
      "outputs": [
        {
          "output_type": "execute_result",
          "data": {
            "text/plain": [
              "{'aaa', 'bbbb', 'cc'}"
            ]
          },
          "metadata": {},
          "execution_count": 3
        }
      ]
    },
    {
      "cell_type": "markdown",
      "source": [
        "Элементы множества могут принадлежать любому **неизменяемому типу данных**: быть числами, строками, кортежами и т.д. Элементы изменяемых типов данных не могут входить в множества, в частности, нельзя сделать элементом множества список или другое множество."
      ],
      "metadata": {
        "id": "83TPb3Thw46a"
      }
    },
    {
      "cell_type": "code",
      "source": [
        "myset1 = {1, 2, [5, 6], 7}  # множество не может содержать список\n",
        "myset2 = {1, 2, {5, 6}, 7}  # множество не может содержать множество"
      ],
      "metadata": {
        "colab": {
          "base_uri": "https://localhost:8080/",
          "height": 159
        },
        "id": "i6ziS2S_xD97",
        "outputId": "381b334a-f6e1-4f5f-f82d-e144495ae684"
      },
      "execution_count": 4,
      "outputs": [
        {
          "output_type": "error",
          "ename": "TypeError",
          "evalue": "unhashable type: 'list'",
          "traceback": [
            "\u001b[0;31m---------------------------------------------------------------------------\u001b[0m",
            "\u001b[0;31mTypeError\u001b[0m                                 Traceback (most recent call last)",
            "\u001b[0;32m<ipython-input-4-428ee3661342>\u001b[0m in \u001b[0;36m<cell line: 1>\u001b[0;34m()\u001b[0m\n\u001b[0;32m----> 1\u001b[0;31m \u001b[0mmyset1\u001b[0m \u001b[0;34m=\u001b[0m \u001b[0;34m{\u001b[0m\u001b[0;36m1\u001b[0m\u001b[0;34m,\u001b[0m \u001b[0;36m2\u001b[0m\u001b[0;34m,\u001b[0m \u001b[0;34m[\u001b[0m\u001b[0;36m5\u001b[0m\u001b[0;34m,\u001b[0m \u001b[0;36m6\u001b[0m\u001b[0;34m]\u001b[0m\u001b[0;34m,\u001b[0m \u001b[0;36m7\u001b[0m\u001b[0;34m}\u001b[0m  \u001b[0;31m# множество не может содержать список\u001b[0m\u001b[0;34m\u001b[0m\u001b[0;34m\u001b[0m\u001b[0m\n\u001b[0m\u001b[1;32m      2\u001b[0m \u001b[0mmyset2\u001b[0m \u001b[0;34m=\u001b[0m \u001b[0;34m{\u001b[0m\u001b[0;36m1\u001b[0m\u001b[0;34m,\u001b[0m \u001b[0;36m2\u001b[0m\u001b[0;34m,\u001b[0m \u001b[0;34m{\u001b[0m\u001b[0;36m5\u001b[0m\u001b[0;34m,\u001b[0m \u001b[0;36m6\u001b[0m\u001b[0;34m}\u001b[0m\u001b[0;34m,\u001b[0m \u001b[0;36m7\u001b[0m\u001b[0;34m}\u001b[0m  \u001b[0;31m# множество не может содержать множество\u001b[0m\u001b[0;34m\u001b[0m\u001b[0;34m\u001b[0m\u001b[0m\n",
            "\u001b[0;31mTypeError\u001b[0m: unhashable type: 'list'"
          ]
        }
      ]
    },
    {
      "cell_type": "markdown",
      "source": [
        "# Методы множеств"
      ],
      "metadata": {
        "id": "ubmUR3_jxLmr"
      }
    },
    {
      "cell_type": "code",
      "source": [
        "add() - добавляет элемент в множество.\n",
        "remove() - удаляет указанный элемент из множества.\n",
        "discard() - удаляет указанный элемент из множества, если он присутствует.\n",
        "pop() - удаляет и возвращает случайный элемент из множества.\n",
        "clear() - удаляет все элементы из множества, делая его пустым."
      ],
      "metadata": {
        "id": "-65Ue4D8xqhE"
      },
      "execution_count": null,
      "outputs": []
    },
    {
      "cell_type": "code",
      "source": [
        "my_set = {\"apple\", \"banana\", \"cherry\"}\n",
        "my_set.add(\"orange\")\n",
        "print(my_set)"
      ],
      "metadata": {
        "colab": {
          "base_uri": "https://localhost:8080/"
        },
        "id": "eg8QSQ_Yx2ZF",
        "outputId": "49841ef1-b4a8-4641-842d-3e93a1d221c9"
      },
      "execution_count": 5,
      "outputs": [
        {
          "output_type": "stream",
          "name": "stdout",
          "text": [
            "{'banana', 'cherry', 'apple', 'orange'}\n"
          ]
        }
      ]
    },
    {
      "cell_type": "code",
      "source": [
        "my_set = {\"apple\", \"banana\", \"cherry\"}\n",
        "my_set.remove(\"banana\")\n",
        "print(my_set)"
      ],
      "metadata": {
        "colab": {
          "base_uri": "https://localhost:8080/"
        },
        "id": "lbkYWFbAx249",
        "outputId": "74d09779-5c7f-4760-e94e-2f0d285819b2"
      },
      "execution_count": 6,
      "outputs": [
        {
          "output_type": "stream",
          "name": "stdout",
          "text": [
            "{'cherry', 'apple'}\n"
          ]
        }
      ]
    },
    {
      "cell_type": "code",
      "source": [
        "my_set = {\"apple\", \"banana\", \"cherry\"}\n",
        "my_set.discard(\"banana\")\n",
        "print(my_set)"
      ],
      "metadata": {
        "colab": {
          "base_uri": "https://localhost:8080/"
        },
        "id": "0dyZhQB7x6nF",
        "outputId": "3ab3b35e-ce0b-4332-c49c-4d98694adf12"
      },
      "execution_count": 7,
      "outputs": [
        {
          "output_type": "stream",
          "name": "stdout",
          "text": [
            "{'cherry', 'apple'}\n"
          ]
        }
      ]
    },
    {
      "cell_type": "code",
      "source": [
        "my_set = {\"apple\", \"banana\", \"cherry\"}\n",
        "deleted = my_set.pop()\n",
        "print(my_set)\n",
        "print(deleted)"
      ],
      "metadata": {
        "colab": {
          "base_uri": "https://localhost:8080/"
        },
        "id": "EPFVq3tpx9Kd",
        "outputId": "aaeab12d-bf44-45da-f245-8b7c0dd5b376"
      },
      "execution_count": 8,
      "outputs": [
        {
          "output_type": "stream",
          "name": "stdout",
          "text": [
            "{'cherry', 'apple'}\n",
            "banana\n"
          ]
        }
      ]
    },
    {
      "cell_type": "code",
      "source": [
        "my_set = {\"apple\", \"banana\", \"cherry\"}\n",
        "my_set.clear()\n",
        "print(my_set)"
      ],
      "metadata": {
        "colab": {
          "base_uri": "https://localhost:8080/"
        },
        "id": "yq6ZH8DxyFDF",
        "outputId": "26ed4eb5-5d03-4ccf-cd72-9f383a6d1a54"
      },
      "execution_count": 9,
      "outputs": [
        {
          "output_type": "stream",
          "name": "stdout",
          "text": [
            "set()\n"
          ]
        }
      ]
    }
  ]
}
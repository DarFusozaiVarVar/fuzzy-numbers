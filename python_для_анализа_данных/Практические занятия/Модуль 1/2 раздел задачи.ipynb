{
 "cells": [
  {
   "cell_type": "markdown",
   "metadata": {
    "id": "Muva5nNEHMhP"
   },
   "source": [
    "# Модуль 1. Часть 2."
   ]
  },
  {
   "cell_type": "markdown",
   "metadata": {
    "id": "1s4G2XsZtI2e"
   },
   "source": [
    "# Списки и списочные выражения"
   ]
  },
  {
   "cell_type": "markdown",
   "metadata": {
    "id": "yFgjFMTmOwIm"
   },
   "source": [
    "**1 Алфавит**\n",
    "\n",
    "Напишите программу, выводящую следующий список:\n",
    "['a', 'bb', 'ccc', 'dddd', 'eeeee', 'ffffff', ...]\n",
    "Последний элемент списка должен состоять из 26 символов z."
   ]
  },
  {
   "cell_type": "code",
   "execution_count": null,
   "metadata": {
    "id": "7Ilkr7H8Ntaf"
   },
   "outputs": [],
   "source": [
    "# в помощь\n",
    "abc = 'abcdefghijklmnopqrstuvwxyz'"
   ]
  },
  {
   "cell_type": "code",
   "execution_count": 4,
   "metadata": {
    "id": "22fiPQIt-kXP"
   },
   "outputs": [
    {
     "name": "stdout",
     "output_type": "stream",
     "text": [
      "26\n"
     ]
    }
   ],
   "source": [
    "def looooooongStrList():\n",
    "    abc = 'abcdefghijklmnopqrstuvwxyz'\n",
    "    out = []\n",
    "    for i in range(0, len(abc)):\n",
    "        out.append(abc[i]*(i+1))\n",
    "    return out\n",
    "print(len(looooooongStrList()))"
   ]
  },
  {
   "cell_type": "markdown",
   "metadata": {
    "id": "AwHhtY9tPFd1"
   },
   "source": [
    "**2 Без дубликатов**\n",
    "\n",
    "На вход программе подается натуральное число n, а затем n строк. Напишите программу, которая выводит только уникальные строки, в том же порядке, в котором они были введены."
   ]
  },
  {
   "cell_type": "code",
   "execution_count": 12,
   "metadata": {
    "id": "KlvakqAoS_fM"
   },
   "outputs": [
    {
     "name": "stdout",
     "output_type": "stream",
     "text": [
      "a\n",
      "b\n",
      "c\n"
     ]
    }
   ],
   "source": [
    "#пример ввода\n",
    "''' \n",
    "first\n",
    "second\n",
    "first\n",
    "third\n",
    "second\n",
    "'''\n",
    "#ожидаемый вывод\n",
    "'''\n",
    "first\n",
    "second\n",
    "third\n",
    "'''\n",
    "\n",
    "def uniqInputRet(s):\n",
    "    stack = []\n",
    "    for i in s:\n",
    "        if i not in stack:\n",
    "            stack.append(i)\n",
    "    return stack\n",
    "\n",
    "n = int(input())\n",
    "s = []\n",
    "for i in range(0, n):\n",
    "    s.append(input())\n",
    "\n",
    "uniq = uniqInputRet(s)\n",
    "for i in uniq:\n",
    "    print(i)"
   ]
  },
  {
   "cell_type": "markdown",
   "metadata": {
    "id": "g3StLHXETMaM"
   },
   "source": [
    "**3 Отрицательные, нули и положительные**\n",
    "\n",
    "На вход программе подается натуральное число n, а затем n целых чисел. Напишите программу, которая сначала выводит все отрицательные числа, затем нули, а затем все положительные числа, каждое на отдельной строке. Числа должны быть выведены в том же порядке, в котором они были введены."
   ]
  },
  {
   "cell_type": "code",
   "execution_count": 22,
   "metadata": {
    "id": "KdIz5mTItYz7"
   },
   "outputs": [
    {
     "name": "stdout",
     "output_type": "stream",
     "text": [
      "-2 -10 -9\n",
      "0 0\n",
      "3\n"
     ]
    }
   ],
   "source": [
    "def oneToRuleThemAll(inp):\n",
    "    sadBin = ''\n",
    "    neutralBin = 0\n",
    "    happyBin = ''\n",
    "\n",
    "    for i in inp:\n",
    "        if '-' in i:\n",
    "            sadBin += i + ' '\n",
    "        elif i == '0':\n",
    "            neutralBin += 1\n",
    "        else:\n",
    "            happyBin += i + ' '\n",
    "\n",
    "    print(sadBin.strip())\n",
    "    print((('0 ')*neutralBin).strip())\n",
    "    print(happyBin.strip())\n",
    "\n",
    "n = int(input())\n",
    "inp = []\n",
    "for i in range(0, n):\n",
    "    inp.append(input())\n",
    "oneToRuleThemAll(inp)"
   ]
  },
  {
   "cell_type": "markdown",
   "metadata": {
    "id": "vX9kg1vPe92X"
   },
   "source": [
    "**4 Более одного экземпляра**\n",
    "\n",
    "На вход программе подается строка, содержащая целые неотрицательные числа, разделенные пробелом. Напишите программу, которая выводит те числа, которые встречаются в данной последовательности более одного раза."
   ]
  },
  {
   "cell_type": "code",
   "execution_count": null,
   "metadata": {
    "id": "LEo_D5yynf5H"
   },
   "outputs": [],
   "source": []
  },
  {
   "cell_type": "markdown",
   "metadata": {
    "id": "RjaSu0con7uh"
   },
   "source": [
    "**5 Суммы соседних чисел**\n",
    "\n",
    "На вход программе подается натуральное число n, где n≥2. Затем поступают\n",
    "n целых чисел. Напишите программу, которая создает из указанных чисел список, состоящий из сумм соседних чисел (первого и второго, второго и третьего и т.д.)"
   ]
  },
  {
   "cell_type": "code",
   "execution_count": null,
   "metadata": {
    "id": "4-4wsEKpoPAe"
   },
   "outputs": [],
   "source": []
  },
  {
   "cell_type": "markdown",
   "metadata": {
    "id": "xIyS47sVog6b"
   },
   "source": [
    "**6 Переставить минимум и максимум**\n",
    "\n",
    "На вход программе подается строка текста, содержащая **различные** натуральные числа. Вам необходимо переставить максимальный и минимальный элементы местами и вывести измененную **строку**."
   ]
  },
  {
   "cell_type": "code",
   "execution_count": null,
   "metadata": {
    "id": "wdoTdU_HotRm"
   },
   "outputs": [],
   "source": [
    "#пример ввода\n",
    "\n",
    "'1 2 3 4 5 6 7 8 9 10'\n",
    "\n",
    "#ожидаемый вывод\n",
    "\n",
    "'10 2 3 4 5 6 7 8 9 1'"
   ]
  },
  {
   "cell_type": "markdown",
   "metadata": {
    "id": "Ec3Z5pTgpwbM"
   },
   "source": [
    "**7 Количество артиклей**\n",
    "\n",
    "На вход программе подается строка, содержащая английский текст. Слова текста разделены символом пробела. Напишите программу, которая подсчитывает общее количество артиклей: 'a', 'an', 'the'. Артикли могут начинаться с заглавной буквы."
   ]
  },
  {
   "cell_type": "code",
   "execution_count": null,
   "metadata": {
    "id": "T96AH2flotIc"
   },
   "outputs": [],
   "source": [
    "string = 'William Shakespeare was born in the town of Stratford, England, in the year 1564. When he was a young man, Shakespeare moved to the city of London, where he began writing plays. His plays were soon very successful, and were enjoyed both by the common people of London and also by the rich and famous. In addition to his plays, Shakespeare wrote many short poems and a few longer poems. Like his plays, these poems are still famous today.'\n"
   ]
  },
  {
   "cell_type": "markdown",
   "metadata": {
    "id": "z35yq6B-VfUr"
   },
   "source": [
    "**8 Группировка дубликатов**\n",
    "\n",
    "На вход программе подается строка текста, содержащая символы, разделенные пробелом. Напишите программу, которая упаковывает последовательности одинаковых символов заданной строки в подсписки."
   ]
  },
  {
   "cell_type": "code",
   "execution_count": null,
   "metadata": {
    "id": "P0x7PR7Ee2x4"
   },
   "outputs": [],
   "source": [
    "#пример ввода\n",
    "\n",
    "'5 5 5 1 1 g w 6 6 1 8 h e e o 5 t t 2'\n",
    "\n",
    "#ожидаемый вывод\n",
    "\n",
    "[['5', '5', '5'], ['1', '1'], ['g'], ['w'], ['6', '6'], ['1'], ['8'], ['h'], ['e', 'e'], ['o'], ['5'], ['t', 't'], ['2']]"
   ]
  },
  {
   "cell_type": "markdown",
   "metadata": {
    "id": "jbK1Xh4vqeTf"
   },
   "source": [
    "**9 Одной строкой_1**\n",
    "\n",
    "На вход программе подается строка текста. Напишите программу, использующую **списочное выражение**, которая выводит все цифровые символы данной строки."
   ]
  },
  {
   "cell_type": "code",
   "execution_count": null,
   "metadata": {
    "id": "VDnXi5Goornk"
   },
   "outputs": [],
   "source": [
    "#пример ввода\n",
    "\n",
    "'Число Pi примерно равно 3.1415'\n",
    "\n",
    "#ожидаемый вывод\n",
    "\n",
    "'31415'"
   ]
  },
  {
   "cell_type": "markdown",
   "metadata": {
    "id": "0k-Juzd_rDuT"
   },
   "source": [
    "**10 Одной строкой_2**\n",
    "\n",
    "На вход программе подаётся строка текста, содержащая целые числа. Напишите программу, использующую **списочное выражение**, которая выведет квадраты чётных чисел, кроме тех квадратов, которые оканчиваются на цифру 4."
   ]
  },
  {
   "cell_type": "code",
   "execution_count": null,
   "metadata": {
    "id": "a4Dv8lLLrRmI"
   },
   "outputs": [],
   "source": []
  },
  {
   "cell_type": "markdown",
   "metadata": {
    "id": "rCaNK5dwtN9F"
   },
   "source": [
    "# Можества"
   ]
  },
  {
   "cell_type": "markdown",
   "metadata": {
    "id": "IVi7JepqtQ4N"
   },
   "source": [
    "**11 Количество слов в тексте**\n",
    "\n",
    "Напишите программу для определения общего количества **различных** слов в строке текста без учета регистра.\n",
    "\n",
    "Примечания:\n",
    "\n",
    "* Словом считается последовательность непробельных символов, идущих подряд, слова разделены одним или большим числом пробелов.\n",
    "* Знаками препинания '.,;:-?!' пренебрегаем, других знаков в тексте не будет.\n",
    "\n"
   ]
  },
  {
   "cell_type": "code",
   "execution_count": null,
   "metadata": {
    "id": "XbMD8Mw1ttFv"
   },
   "outputs": [],
   "source": [
    "string = 'Snowflakes, snowflakes falling down. Snowflakes, covering up the ground. Making a blanket, soft and white. Making a blanket in the night.'\n"
   ]
  },
  {
   "cell_type": "markdown",
   "metadata": {
    "id": "_o19ixjnt5kI"
   },
   "source": [
    "**12 Оригиналы и дубликаты**\n",
    "\n",
    "На вход программе подается строка текста, содержащая числа. Для каждого числа выведите слово YES, если это число ранее встречалось в последовательности или NO, если не встречалось.\n",
    "\n",
    "**Примечание.** Ведущие нули в числах должны игнорироваться."
   ]
  },
  {
   "cell_type": "code",
   "execution_count": null,
   "metadata": {
    "id": "CbE1jhAJuiWd"
   },
   "outputs": [],
   "source": [
    "#пример ввода\n",
    "\n",
    "'1 2 3 002 03 4 5 05'\n",
    "\n",
    "#ожидаемый вывод\n",
    "\n",
    "'NO NO NO YES YES NO NO YES'"
   ]
  }
 ],
 "metadata": {
  "colab": {
   "provenance": []
  },
  "kernelspec": {
   "display_name": "Python 3",
   "name": "python3"
  },
  "language_info": {
   "codemirror_mode": {
    "name": "ipython",
    "version": 3
   },
   "file_extension": ".py",
   "mimetype": "text/x-python",
   "name": "python",
   "nbconvert_exporter": "python",
   "pygments_lexer": "ipython3",
   "version": "3.13.2"
  }
 },
 "nbformat": 4,
 "nbformat_minor": 0
}

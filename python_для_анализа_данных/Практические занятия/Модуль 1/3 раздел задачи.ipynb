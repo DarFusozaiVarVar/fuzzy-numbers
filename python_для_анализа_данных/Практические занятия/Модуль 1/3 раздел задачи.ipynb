{
 "cells": [
  {
   "cell_type": "markdown",
   "metadata": {
    "id": "XKp1mdbks6RI"
   },
   "source": [
    "# Задачи раздел 3 (модуль 1)"
   ]
  },
  {
   "cell_type": "markdown",
   "metadata": {
    "id": "SV5MyTXgIgEC"
   },
   "source": [
    "**Необходимый минимум: 12 любых задач**"
   ]
  },
  {
   "cell_type": "markdown",
   "metadata": {
    "id": "WgHJ6vdxs-uv"
   },
   "source": [
    "**Задача 1. Найти все вхождения**\n",
    "\n",
    "Напишите функцию с именем find_all(target, symbol), которая принимает два аргумента: строку target и символ symbol и возвращает список, содержащий все местоположения этого символа в строке.\n",
    "\n",
    "Примечание 1. Если указанный символ не встречается в строке, то следует вернуть пустой список."
   ]
  },
  {
   "cell_type": "code",
   "execution_count": 3,
   "metadata": {
    "id": "WqDXtH7cs5mU"
   },
   "outputs": [
    {
     "name": "stdout",
     "output_type": "stream",
     "text": [
      "[0, 4, 7, 8, 9]\n",
      "[]\n",
      "[4]\n"
     ]
    },
    {
     "data": {
      "text/plain": [
       "[4]"
      ]
     },
     "execution_count": 3,
     "metadata": {},
     "output_type": "execute_result"
    }
   ],
   "source": [
    "def find_all(target, symbol):\n",
    "    out = []\n",
    "    for i in range(0, len(target)):\n",
    "        if target[i] == symbol:\n",
    "            out.append(i)\n",
    "    return out\n",
    "\n",
    "# Следующий программный код:\n",
    "\n",
    "print(find_all('abcdabcaaa', 'a'))\n",
    "print(find_all('abcadbcaaa', 'e'))\n",
    "print(find_all('abcadbcaaa', 'd'))\n",
    "\n",
    "\n",
    "# Должен выводить:\n",
    "[0, 4, 7, 8, 9]\n",
    "[]\n",
    "[4]"
   ]
  },
  {
   "cell_type": "markdown",
   "metadata": {
    "id": "rUiFSyq6zOkQ"
   },
   "source": [
    "**Задача 2. Следующее простое**\n",
    "\n",
    "Напишите функцию get_next_prime(num), которая принимает в качестве аргумента натуральное число num и возвращает первое простое число большее числа num."
   ]
  },
  {
   "cell_type": "code",
   "execution_count": null,
   "metadata": {
    "id": "145X5r8EzOkR"
   },
   "outputs": [],
   "source": [
    "# Следующий программный код:\n",
    "\n",
    "print(get_next_prime(6))\n",
    "print(get_next_prime(7))\n",
    "print(get_next_prime(502))\n",
    "\n",
    "\n",
    "# Должен выводить:\n",
    "7\n",
    "11\n",
    "503"
   ]
  },
  {
   "cell_type": "markdown",
   "metadata": {
    "id": "LkWr1oY6z4gL"
   },
   "source": [
    "**Задача 3. Хороший пароль**\n",
    "\n",
    "Напишите функцию is_password_good(password), которая принимает в качестве аргумента строковое значение пароля password и возвращает значение True, если пароль является надежным и False - в противном случае.\n",
    "\n",
    "Пароль является надежным если:\n",
    "\n",
    "* его длина не менее 8 символов;\n",
    "* он содержит как минимум одну заглавную букву (верхний регистр);\n",
    "* он содержит как минимум одну строчную букву (нижний регистр);\n",
    "* он содержит хотя бы одну цифру."
   ]
  },
  {
   "cell_type": "code",
   "execution_count": null,
   "metadata": {
    "id": "Xrbu1aIpz4gM"
   },
   "outputs": [],
   "source": [
    "# Следующий программный код:\n",
    "\n",
    "print(is_password_good('aabbCC11OP'))\n",
    "print(is_password_good('abC1pu'))\n",
    "print(is_password_good('dsas233232232'))\n",
    "\n",
    "\n",
    "# Должен выводить:\n",
    "True\n",
    "False\n",
    "False"
   ]
  },
  {
   "cell_type": "markdown",
   "metadata": {
    "id": "pxdlOU_v0fcp"
   },
   "source": [
    "**Задача 4. Среднее от произвольного числа разных аргументов**\n",
    "\n",
    "Напишите функцию mean(), которая принимает произвольное количество аргументов и возвращает среднее арифметическое переданных в нее числовых (int или float) аргументов.\n",
    "\n",
    "**Примечание 1.** Обратите внимание, что функция должна принимать не список, а именно произвольное количество аргументов.\n",
    "\n",
    "**Примечание 2.** Функция должна игнорировать аргументы всех типов, кроме int или float."
   ]
  },
  {
   "cell_type": "code",
   "execution_count": null,
   "metadata": {
    "id": "fiQcapTJ0fcq"
   },
   "outputs": [],
   "source": [
    "# Следующий программный код:\n",
    "\n",
    "print(mean())\n",
    "print(mean(7))\n",
    "print(mean(1.5, True, ['python'], 'foo', 2.5, (1, 2)))\n",
    "print(mean(True, ['python'], 'bar', (1, 2)))\n",
    "print(mean(-1, 2, 3, 10, ('5')))\n",
    "print(mean(1, 2, 3, 4, 5, 6, 7, 8, 9, 10))\n",
    "\n",
    "\n",
    "# Должен выводить:\n",
    "0.0\n",
    "7.0\n",
    "2.0\n",
    "0.0\n",
    "3.5\n",
    "5.5"
   ]
  },
  {
   "cell_type": "markdown",
   "metadata": {
    "id": "mZEEgtvr07RT"
   },
   "source": [
    "**Задача 5. Приветствие неопределенного числа людей**\n",
    "\n",
    "Напишите функцию greet(), которая принимает произвольное количество аргументов строк имен (как минимум одно) и возвращает приветствие в соответствии с образцом.\n",
    "\n",
    "**Примечание.** Обратите внимание, что функция должна принимать не список, а именно произвольное количество аргументов."
   ]
  },
  {
   "cell_type": "code",
   "execution_count": null,
   "metadata": {
    "id": "e9iDA9EC07RW"
   },
   "outputs": [],
   "source": [
    "# Следующий программный код:\n",
    "\n",
    "print(greet('Ivan'))\n",
    "print(greet('Ivan', 'Roman'))\n",
    "print(greet('Ivan', 'Roman', 'Ruslan'))\n",
    "\n",
    "\n",
    "# Должен выводить:\n",
    "\n",
    "Hello, Ivan!\n",
    "Hello, Ivan and Roman!\n",
    "Hello, Ivan and Roman and Ruslan!"
   ]
  },
  {
   "cell_type": "markdown",
   "metadata": {
    "id": "ZoMsFiiE1Q0y"
   },
   "source": [
    "**Задача 6. Специфичная сортировка-1**\n",
    "\n",
    "На вход программе подается строка натуральных чисел. Из элементов строки формируется список чисел.\n",
    "\n",
    "Напишите программу сортировки списка чисел **в порядке неубывания суммы их цифр**. При этом, если два числа имеют одинаковую сумму цифр, следует сохранить их взаиморасположение в начальном списке."
   ]
  },
  {
   "cell_type": "code",
   "execution_count": null,
   "metadata": {
    "id": "a8XvqkTh1Q08"
   },
   "outputs": [],
   "source": [
    "# Следующий ввод:\n",
    "\n",
    "12 14 79 7 4 123 45 90 111\n",
    "\n",
    "\n",
    "# Должен выводить:\n",
    "\n",
    "12 111 4 14 123 7 45 90 79"
   ]
  },
  {
   "cell_type": "markdown",
   "metadata": {
    "id": "R1hvFj3e2KSl"
   },
   "source": [
    "**Задача 7. Сортировка слов**\n",
    "\n",
    "Список data содержит слова на русском языке. Напишите программу, которая сортирует этот список по возрастанию длины слов. В случае, если длины каких-то слов совпадают, – отсортировать эти слова в лексикографическом порядке. Отсортированные слова следует вывести на одной строке, разделив символом пробела.\n",
    "\n",
    "**Примечание.** Используйте **анонимную** функцию в качестве критерия сортировки."
   ]
  },
  {
   "cell_type": "code",
   "execution_count": null,
   "metadata": {
    "id": "b-R8LOj42KSl"
   },
   "outputs": [],
   "source": [
    "data = ['год', 'человек', 'время', 'дело', 'жизнь', 'день', 'рука', 'раз', 'работа', 'слово', 'место', 'лицо', 'друг', 'глаз', 'вопрос', 'дом', 'сторона', 'страна', 'мир', 'случай', 'голова', 'ребенок', 'сила', 'конец', 'вид', 'система', 'часть', 'город', 'отношение', 'женщина', 'деньги']\n"
   ]
  },
  {
   "cell_type": "code",
   "execution_count": null,
   "metadata": {
    "id": "_UnQ9YK42ixR"
   },
   "outputs": [],
   "source": [
    "# Необходимый вывод:\n",
    "\n",
    "вид год дом мир раз глаз дело день друг лицо рука сила время город жизнь конец место слово часть вопрос голова деньги работа случай страна женщина ребенок система сторона человек отношение"
   ]
  },
  {
   "cell_type": "markdown",
   "metadata": {
    "id": "Xco3dQrr2tF7"
   },
   "source": [
    "**Задача 8. Максимум из списка**\n",
    "\n",
    "Список mixed_list содержит целочисленные и строковые значения. Напишите программу, которая с помощью встроенной функции max() находит и выводит наибольшее числовое значение в указанном списке.\n",
    "\n",
    "**Примечание.** Для решения задачи используйте анонимную функцию и необязательный аргумент key  функции max()."
   ]
  },
  {
   "cell_type": "code",
   "execution_count": null,
   "metadata": {
    "id": "ctGRKuWK2tF7"
   },
   "outputs": [],
   "source": [
    "mixed_list = ['123', 'abroad', 'abuse', 'beside', 'monday', 'abate', 'accessory', 'absorb', 1384878, 'sunday', 'about', 454805, 'saturday', 'abort', 2121919, 2552839, 977970, 1772933, 1564063, 'abduct', 901271, 2680434, 'bicycle', 'accelerate', 1109147, 942908, 'berry', 433507, 'bias', 'bestow', 1875665, 'besides', 'bewilder', 1586517, 375290, 1503450, 2713047, 'abnormal', 2286106, 242192, 701049, 2866491, 'benevolent', 'bigot', 'abuse', 'abrupt', 343772, 'able', 2135748, 690280, 686008, 'beyond', 2415643, 'aboard', 'bet', 859105, 'accident', 2223166, 894187, 146564, 1251748, 2851543, 1619426, 2263113, 1618068, 'berth', 'abolish', 'beware', 2618492, 1555062, 'access', 'absent', 'abundant', 2950603, 'betray', 'beverage', 'abide', 'abandon', 2284251, 'wednesday', 2709698, 'thursday', 810387, 'friday', 2576799, 2213552, 1599022, 'accept', 'abuse', 'abound', 1352953, 'bid', 1805326, 1499197, 2241159, 605320, 2347441]\n"
   ]
  },
  {
   "cell_type": "code",
   "execution_count": null,
   "metadata": {
    "id": "wIp47P4c2tF7"
   },
   "outputs": [],
   "source": [
    "# Необходимый вывод:\n",
    "\n",
    "2950603"
   ]
  },
  {
   "cell_type": "markdown",
   "metadata": {
    "id": "I0JkLoii4BET"
   },
   "source": [
    "**Задача 9. Корректный IP-адрес**\n",
    "\n",
    "IP-адрес представляет собой 32-битное число. Адрес записывается в виде четырёх десятичных чисел (октетов) со значением от 0 до 255 (включительно), разделённых точками, например, 192.168.1.2.\n",
    "Напишите программу с **использованием встроенной функции all()** для проверки корректности IP-адреса: все ли октеты в IP-адресе – числа со значением от 0 до\n",
    "255.\n",
    "\n",
    "На вход программе подается строка в формате x.x.x.x, где x – непустой набор символов 0-9, a-z.\n",
    "\n",
    "Программа должна вывести True если введенная строка – корректный IP-адрес и False в противном случае.\n",
    "\n",
    "**Примечание.** Ведущие нули следует игнорировать:\n",
    "\n",
    "0001 = 1\n",
    "006 = 6\n",
    "0213 = 213\n",
    "0000 = 0\n",
    "00345 = 345"
   ]
  },
  {
   "cell_type": "code",
   "execution_count": null,
   "metadata": {
    "id": "KR8snhn15Z2c"
   },
   "outputs": [],
   "source": [
    "# Примеры ввода / вывода:\n",
    "\n",
    "10.0.1.1\n",
    "True\n",
    "\n",
    "10.1.1.a\n",
    "False\n",
    "\n",
    "10.1.1.260\n",
    "False\n",
    "\n",
    "10.0023.0123.0000015\n",
    "True"
   ]
  },
  {
   "cell_type": "markdown",
   "metadata": {
    "id": "II8v6FSO6aoD"
   },
   "source": [
    "**Задача 10. Приемлемый пароль**\n",
    "\n",
    "Хороший пароль по условиям этой задачи состоит как минимум из 7 символов, содержит хотя бы одну цифру, заглавную и строчную букву. Напишите программу со встроенной функцией any() для определения хорош ли введенный пароль.\n",
    "\n",
    "Программа должна вывести YES, если строка – хороший пароль, и NO в противном случае."
   ]
  },
  {
   "cell_type": "code",
   "execution_count": null,
   "metadata": {
    "id": "4EVd1RL06aoG"
   },
   "outputs": [],
   "source": [
    "# Примеры ввода / вывода:\n",
    "\n",
    "abcABC9\n",
    "YES\n",
    "\n",
    "abAB34\n",
    "NO\n",
    "\n",
    "DFSDFSDFSDsdfjsdfnsm\n",
    "NO"
   ]
  },
  {
   "cell_type": "markdown",
   "metadata": {
    "id": "Dur4QFtbEo8A"
   },
   "source": [
    "**Задача 11. Отличие ровно в 1 позиции**\n",
    "\n",
    "Напишите функцию is_one_away(word1, word2), которая принимает в качестве аргументов два слова word1 и word2 и возвращает значение True, если слова имеют одинаковую длину и отличаются ровно в одном символе, или значение False в противном случае.\n",
    "\n",
    "**Примечание.** Если слова одинаковые, то False"
   ]
  },
  {
   "cell_type": "code",
   "execution_count": null,
   "metadata": {
    "id": "jS8BzumPEo8B"
   },
   "outputs": [],
   "source": [
    "# Следующий программный код:\n",
    "\n",
    "print(is_one_away('bike', 'hike'))\n",
    "print(is_one_away('water', 'wafer'))\n",
    "print(is_one_away('abcd', 'abpo'))\n",
    "print(is_one_away('abcd', 'abcde'))\n",
    "print(is_one_away('aab', 'aba'))\n",
    "\n",
    "# Должен выводить:\n",
    "\n",
    "True\n",
    "True\n",
    "False\n",
    "False\n",
    "False"
   ]
  },
  {
   "cell_type": "markdown",
   "metadata": {
    "id": "W6FLWw7LDrIm"
   },
   "source": [
    "**Задача 12. Змеиный регистр**\n",
    "\n",
    "Напишите функцию convert_to_python_case(text), которая принимает в качестве аргумента строку в «верблюжьем регистре» (ThisIsCamelCased) и преобразует его в «змеиный регистр» (this_is_snake_cased)."
   ]
  },
  {
   "cell_type": "code",
   "execution_count": null,
   "metadata": {
    "id": "ttKTHw1YDrIm"
   },
   "outputs": [],
   "source": [
    "# Следующий программный код:\n",
    "\n",
    "print(convert_to_python_case('ThisIsCamelCased'))\n",
    "print(convert_to_python_case('IsPrimeNumber'))\n",
    "print(convert_to_python_case('FBIIsWatchingYou'))\n",
    "\n",
    "# Должен выводить:\n",
    "\n",
    "this_is_camel_cased\n",
    "is_prime_number\n",
    "f_b_i_is_watching_you"
   ]
  },
  {
   "cell_type": "markdown",
   "metadata": {
    "id": "m1sYKk6vIK9S"
   },
   "source": [
    "**Задача 13. Параллельная иттерация**\n",
    "\n",
    "Используя параллельную итерацию сразу по трем спискам countries, capitals и population выведите информацию о стране в формате:"
   ]
  },
  {
   "cell_type": "code",
   "execution_count": null,
   "metadata": {
    "id": "wHcR-873IK9S"
   },
   "outputs": [],
   "source": [
    "<capital> is the capital of <country>, population equal <population> people.\n",
    "\n",
    "\n",
    "Moscow is the capital of Russia, population equal 145934462 people.\n",
    "Washington is the capital of USA, population equal 331002651 people.\n",
    "..."
   ]
  },
  {
   "cell_type": "code",
   "execution_count": null,
   "metadata": {
    "id": "r5G8YkK1Iac6"
   },
   "outputs": [],
   "source": [
    "countries = ['Russia', 'USA', 'UK', 'Germany', 'France', 'India']\n",
    "capitals = ['Moscow', 'Washington', 'London', 'Berlin', 'Paris', 'Delhi']\n",
    "population = [145_934_462, 331_002_651, 80_345_321, 67_886_011, 65_273_511, 1_380_004_385]"
   ]
  }
 ],
 "metadata": {
  "colab": {
   "provenance": []
  },
  "kernelspec": {
   "display_name": "Python 3",
   "name": "python3"
  },
  "language_info": {
   "codemirror_mode": {
    "name": "ipython",
    "version": 3
   },
   "file_extension": ".py",
   "mimetype": "text/x-python",
   "name": "python",
   "nbconvert_exporter": "python",
   "pygments_lexer": "ipython3",
   "version": "3.13.2"
  }
 },
 "nbformat": 4,
 "nbformat_minor": 0
}

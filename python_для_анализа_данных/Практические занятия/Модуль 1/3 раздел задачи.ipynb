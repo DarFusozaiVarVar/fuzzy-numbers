{
 "cells": [
  {
   "cell_type": "markdown",
   "metadata": {
    "id": "XKp1mdbks6RI"
   },
   "source": [
    "# Задачи раздел 3 (модуль 1)"
   ]
  },
  {
   "cell_type": "markdown",
   "metadata": {
    "id": "SV5MyTXgIgEC"
   },
   "source": [
    "**Необходимый минимум: 12 любых задач**"
   ]
  },
  {
   "cell_type": "markdown",
   "metadata": {
    "id": "WgHJ6vdxs-uv"
   },
   "source": [
    "**Задача 1. Найти все вхождения**\n",
    "\n",
    "Напишите функцию с именем find_all(target, symbol), которая принимает два аргумента: строку target и символ symbol и возвращает список, содержащий все местоположения этого символа в строке.\n",
    "\n",
    "Примечание 1. Если указанный символ не встречается в строке, то следует вернуть пустой список."
   ]
  },
  {
   "cell_type": "code",
   "execution_count": 3,
   "metadata": {
    "id": "WqDXtH7cs5mU"
   },
   "outputs": [
    {
     "name": "stdout",
     "output_type": "stream",
     "text": [
      "[0, 4, 7, 8, 9]\n",
      "[]\n",
      "[4]\n"
     ]
    },
    {
     "data": {
      "text/plain": [
       "[4]"
      ]
     },
     "execution_count": 3,
     "metadata": {},
     "output_type": "execute_result"
    }
   ],
   "source": [
    "def find_all(target, symbol):\n",
    "    out = []\n",
    "    for i in range(0, len(target)):\n",
    "        if target[i] == symbol:\n",
    "            out.append(i)\n",
    "    return out\n",
    "\n",
    "# Следующий программный код:\n",
    "\n",
    "print(find_all('abcdabcaaa', 'a'))\n",
    "print(find_all('abcadbcaaa', 'e'))\n",
    "print(find_all('abcadbcaaa', 'd'))\n",
    "\n",
    "\n",
    "# Должен выводить:\n",
    "[0, 4, 7, 8, 9]\n",
    "[]\n",
    "[4]"
   ]
  },
  {
   "cell_type": "markdown",
   "metadata": {
    "id": "rUiFSyq6zOkQ"
   },
   "source": [
    "**Задача 2. Следующее простое**\n",
    "\n",
    "Напишите функцию get_next_prime(num), которая принимает в качестве аргумента натуральное число num и возвращает первое простое число большее числа num."
   ]
  },
  {
   "cell_type": "code",
   "execution_count": 1,
   "metadata": {
    "id": "145X5r8EzOkR"
   },
   "outputs": [
    {
     "name": "stdout",
     "output_type": "stream",
     "text": [
      "7\n",
      "11\n",
      "503\n"
     ]
    },
    {
     "data": {
      "text/plain": [
       "503"
      ]
     },
     "execution_count": 1,
     "metadata": {},
     "output_type": "execute_result"
    }
   ],
   "source": [
    "def get_next_prime(num):\n",
    "    out = num + 1\n",
    "    f = False\n",
    "    if any(out == i for i in [2, 3, 5, 7]):\n",
    "        return out\n",
    "    while not f:\n",
    "        if any(out % i == 0 for i in [2, 3, 5, 7]):\n",
    "            pass\n",
    "        else:\n",
    "            return out\n",
    "        out += 1\n",
    "\n",
    "# Следующий программный код:\n",
    "\n",
    "print(get_next_prime(6))\n",
    "print(get_next_prime(7))\n",
    "print(get_next_prime(502))\n",
    "\n",
    "\n",
    "# Должен выводить:\n",
    "7\n",
    "11\n",
    "503"
   ]
  },
  {
   "cell_type": "markdown",
   "metadata": {
    "id": "LkWr1oY6z4gL"
   },
   "source": [
    "**Задача 3. Хороший пароль**\n",
    "\n",
    "Напишите функцию is_password_good(password), которая принимает в качестве аргумента строковое значение пароля password и возвращает значение True, если пароль является надежным и False - в противном случае.\n",
    "\n",
    "Пароль является надежным если:\n",
    "\n",
    "* его длина не менее 8 символов;\n",
    "* он содержит как минимум одну заглавную букву (верхний регистр);\n",
    "* он содержит как минимум одну строчную букву (нижний регистр);\n",
    "* он содержит хотя бы одну цифру."
   ]
  },
  {
   "cell_type": "code",
   "execution_count": 2,
   "metadata": {
    "id": "Xrbu1aIpz4gM"
   },
   "outputs": [
    {
     "name": "stdout",
     "output_type": "stream",
     "text": [
      "True\n",
      "False\n",
      "False\n"
     ]
    },
    {
     "data": {
      "text/plain": [
       "False"
      ]
     },
     "execution_count": 2,
     "metadata": {},
     "output_type": "execute_result"
    }
   ],
   "source": [
    "def is_password_good(password):\n",
    "    if any(i.islower() for i in password) and any(i.isupper() for i in password) and len(password) >= 8 and any(i.islower() for i in password):\n",
    "        return True\n",
    "    return False\n",
    "\n",
    "# Следующий программный код:\n",
    "\n",
    "print(is_password_good('aabbCC11OP'))\n",
    "print(is_password_good('abC1pu'))\n",
    "print(is_password_good('dsas233232232'))\n",
    "\n",
    "\n",
    "# Должен выводить:\n",
    "True\n",
    "False\n",
    "False"
   ]
  },
  {
   "cell_type": "markdown",
   "metadata": {
    "id": "pxdlOU_v0fcp"
   },
   "source": [
    "**Задача 4. Среднее от произвольного числа разных аргументов**\n",
    "\n",
    "Напишите функцию mean(), которая принимает произвольное количество аргументов и возвращает среднее арифметическое переданных в нее числовых (int или float) аргументов.\n",
    "\n",
    "**Примечание 1.** Обратите внимание, что функция должна принимать не список, а именно произвольное количество аргументов.\n",
    "\n",
    "**Примечание 2.** Функция должна игнорировать аргументы всех типов, кроме int или float."
   ]
  },
  {
   "cell_type": "code",
   "execution_count": 20,
   "metadata": {
    "id": "fiQcapTJ0fcq"
   },
   "outputs": [
    {
     "name": "stdout",
     "output_type": "stream",
     "text": [
      "0.0\n",
      "7.0\n",
      "2.0\n",
      "0.0\n",
      "3.5\n",
      "5.5\n"
     ]
    },
    {
     "data": {
      "text/plain": [
       "5.5"
      ]
     },
     "execution_count": 20,
     "metadata": {},
     "output_type": "execute_result"
    }
   ],
   "source": [
    "def mean(*args):\n",
    "    out = 0\n",
    "    c = 0\n",
    "    for i in args:\n",
    "        if type(i) == int:\n",
    "            c += 1\n",
    "            out += int(i)\n",
    "        elif type(i) == float:\n",
    "            c += 1\n",
    "            out += float(i)\n",
    "    if c == 0:\n",
    "        c+=1\n",
    "    return out / c\n",
    "\n",
    "# Следующий программный код:\n",
    "\n",
    "print(mean())\n",
    "print(mean(7))\n",
    "print(mean(1.5, True, ['python'], 'foo', 2.5, (1, 2)))\n",
    "print(mean(True, ['python'], 'bar', (1, 2)))\n",
    "print(mean(-1, 2, 3, 10, ('5')))\n",
    "print(mean(1, 2, 3, 4, 5, 6, 7, 8, 9, 10))\n",
    "\n",
    "\n",
    "# Должен выводить:\n",
    "0.0\n",
    "7.0\n",
    "2.0\n",
    "0.0\n",
    "3.5\n",
    "5.5"
   ]
  },
  {
   "cell_type": "markdown",
   "metadata": {
    "id": "mZEEgtvr07RT"
   },
   "source": [
    "**Задача 5. Приветствие неопределенного числа людей**\n",
    "\n",
    "Напишите функцию greet(), которая принимает произвольное количество аргументов строк имен (как минимум одно) и возвращает приветствие в соответствии с образцом.\n",
    "\n",
    "**Примечание.** Обратите внимание, что функция должна принимать не список, а именно произвольное количество аргументов."
   ]
  },
  {
   "cell_type": "code",
   "execution_count": 41,
   "metadata": {
    "id": "e9iDA9EC07RW"
   },
   "outputs": [
    {
     "name": "stdout",
     "output_type": "stream",
     "text": [
      "Hello, Ivan!\n",
      "Hello, Ivan and Roman!\n",
      "Hello, Ivan and Roman and Ruslan!\n"
     ]
    }
   ],
   "source": [
    "def greet(*args):\n",
    "    out = 'Hello, '\n",
    "    map(lambda x: x if type(x) == str else 0, args)\n",
    "    for i in range(0, len(args)- 1):\n",
    "        out += args[i] + ' and '\n",
    "    out += args[-1] + '!'\n",
    "    return out\n",
    "\n",
    "# Следующий программный код:\n",
    "\n",
    "print(greet('Ivan'))\n",
    "print(greet('Ivan', 'Roman'))\n",
    "print(greet('Ivan', 'Roman', 'Ruslan'))\n",
    "\n",
    "\n",
    "# Должен выводить:\n",
    "\n",
    "#Hello, Ivan!\n",
    "#Hello, Ivan and Roman!\n",
    "#Hello, Ivan and Roman and Ruslan!"
   ]
  },
  {
   "cell_type": "markdown",
   "metadata": {
    "id": "ZoMsFiiE1Q0y"
   },
   "source": [
    "**Задача 6. Специфичная сортировка-1**\n",
    "\n",
    "На вход программе подается строка натуральных чисел. Из элементов строки формируется список чисел.\n",
    "\n",
    "Напишите программу сортировки списка чисел **в порядке неубывания суммы их цифр**. При этом, если два числа имеют одинаковую сумму цифр, следует сохранить их взаиморасположение в начальном списке."
   ]
  },
  {
   "cell_type": "code",
   "execution_count": 76,
   "metadata": {
    "id": "a8XvqkTh1Q08"
   },
   "outputs": [
    {
     "name": "stdout",
     "output_type": "stream",
     "text": [
      "12 111 4 14 123 7 45 90 79\n"
     ]
    }
   ],
   "source": [
    "def s(s):\n",
    "    s = str(s)\n",
    "    out = 0\n",
    "    for i in s:\n",
    "        out += int(i)\n",
    "    return out\n",
    "def sSort(*args):\n",
    "    l, = args\n",
    "    l = [i for i in l if type(i) == int]\n",
    "    l.sort(key = s)\n",
    "    return l\n",
    "\n",
    "\n",
    "inp = [12, 14, 79, 7, 4, 123, 45, 90, 111]\n",
    "print(' '.join([f'{num}' for num in sSort(inp)]))\n",
    "# Следующий ввод:\n",
    "\n",
    "#12 14 79 7 4 123 45 90 111\n",
    "\n",
    "\n",
    "# Должен выводить:\n",
    "\n",
    "#12 111 4 14 123 7 45 90 79"
   ]
  },
  {
   "cell_type": "markdown",
   "metadata": {
    "id": "R1hvFj3e2KSl"
   },
   "source": [
    "**Задача 7. Сортировка слов**\n",
    "\n",
    "Список data содержит слова на русском языке. Напишите программу, которая сортирует этот список по возрастанию длины слов. В случае, если длины каких-то слов совпадают, – отсортировать эти слова в лексикографическом порядке. Отсортированные слова следует вывести на одной строке, разделив символом пробела.\n",
    "\n",
    "**Примечание.** Используйте **анонимную** функцию в качестве критерия сортировки."
   ]
  },
  {
   "cell_type": "code",
   "execution_count": 74,
   "metadata": {
    "id": "b-R8LOj42KSl"
   },
   "outputs": [
    {
     "name": "stdout",
     "output_type": "stream",
     "text": [
      "вид год дом мир раз глаз дело день друг лицо рука сила время город жизнь конец место слово часть вопрос голова деньги работа случай страна женщина ребенок система сторона человек отношение\n"
     ]
    }
   ],
   "source": [
    "data = ['год', 'человек', 'время', 'дело', 'жизнь', 'день', 'рука', 'раз', 'работа', 'слово', 'место', 'лицо', 'друг', 'глаз', 'вопрос', 'дом', 'сторона', 'страна', 'мир', 'случай', 'голова', 'ребенок', 'сила', 'конец', 'вид', 'система', 'часть', 'город', 'отношение', 'женщина', 'деньги']\n",
    "\n",
    "data = sorted(data, key = (lambda x: (len(x), x)))\n",
    "print(' '.join(data))"
   ]
  },
  {
   "cell_type": "code",
   "execution_count": null,
   "metadata": {
    "id": "_UnQ9YK42ixR"
   },
   "outputs": [],
   "source": [
    "# Необходимый вывод:\n",
    "\n",
    "вид год дом мир раз глаз дело день друг лицо рука сила время город жизнь конец место слово часть вопрос голова деньги работа случай страна женщина ребенок система сторона человек отношение"
   ]
  },
  {
   "cell_type": "markdown",
   "metadata": {
    "id": "Xco3dQrr2tF7"
   },
   "source": [
    "**Задача 8. Максимум из списка**\n",
    "\n",
    "Список mixed_list содержит целочисленные и строковые значения. Напишите программу, которая с помощью встроенной функции max() находит и выводит наибольшее числовое значение в указанном списке.\n",
    "\n",
    "**Примечание.** Для решения задачи используйте анонимную функцию и необязательный аргумент key  функции max()."
   ]
  },
  {
   "cell_type": "code",
   "execution_count": 77,
   "metadata": {
    "id": "ctGRKuWK2tF7"
   },
   "outputs": [
    {
     "data": {
      "text/plain": [
       "2950603"
      ]
     },
     "execution_count": 77,
     "metadata": {},
     "output_type": "execute_result"
    }
   ],
   "source": [
    "mixed_list = ['123', 'abroad', 'abuse', 'beside', 'monday', 'abate', 'accessory', 'absorb', 1384878, 'sunday', 'about', 454805, 'saturday', 'abort', 2121919, 2552839, 977970, 1772933, 1564063, 'abduct', 901271, 2680434, 'bicycle', 'accelerate', 1109147, 942908, 'berry', 433507, 'bias', 'bestow', 1875665, 'besides', 'bewilder', 1586517, 375290, 1503450, 2713047, 'abnormal', 2286106, 242192, 701049, 2866491, 'benevolent', 'bigot', 'abuse', 'abrupt', 343772, 'able', 2135748, 690280, 686008, 'beyond', 2415643, 'aboard', 'bet', 859105, 'accident', 2223166, 894187, 146564, 1251748, 2851543, 1619426, 2263113, 1618068, 'berth', 'abolish', 'beware', 2618492, 1555062, 'access', 'absent', 'abundant', 2950603, 'betray', 'beverage', 'abide', 'abandon', 2284251, 'wednesday', 2709698, 'thursday', 810387, 'friday', 2576799, 2213552, 1599022, 'accept', 'abuse', 'abound', 1352953, 'bid', 1805326, 1499197, 2241159, 605320, 2347441]\n",
    "\n",
    "max(mixed_list, key = (lambda x: x if type(x) == int else float('-inf')))"
   ]
  },
  {
   "cell_type": "code",
   "execution_count": null,
   "metadata": {
    "id": "wIp47P4c2tF7"
   },
   "outputs": [],
   "source": [
    "# Необходимый вывод:\n",
    "\n",
    "2950603"
   ]
  },
  {
   "cell_type": "markdown",
   "metadata": {
    "id": "I0JkLoii4BET"
   },
   "source": [
    "**Задача 9. Корректный IP-адрес**\n",
    "\n",
    "IP-адрес представляет собой 32-битное число. Адрес записывается в виде четырёх десятичных чисел (октетов) со значением от 0 до 255 (включительно), разделённых точками, например, 192.168.1.2.\n",
    "Напишите программу с **использованием встроенной функции all()** для проверки корректности IP-адреса: все ли октеты в IP-адресе – числа со значением от 0 до\n",
    "255.\n",
    "\n",
    "На вход программе подается строка в формате x.x.x.x, где x – непустой набор символов 0-9, a-z.\n",
    "\n",
    "Программа должна вывести True если введенная строка – корректный IP-адрес и False в противном случае.\n",
    "\n",
    "**Примечание.** Ведущие нули следует игнорировать:\n",
    "\n",
    "0001 = 1\n",
    "006 = 6\n",
    "0213 = 213\n",
    "0000 = 0\n",
    "00345 = 345"
   ]
  },
  {
   "cell_type": "code",
   "execution_count": 12,
   "metadata": {
    "id": "KR8snhn15Z2c"
   },
   "outputs": [
    {
     "name": "stdout",
     "output_type": "stream",
     "text": [
      "True\n",
      "False\n",
      "False\n",
      "True\n"
     ]
    }
   ],
   "source": [
    "def correctIP(s):\n",
    "    return all(i.isdigit() and int(i) < 255 for i in s.split('.'))\n",
    "# Примеры ввода / вывода:\n",
    "\n",
    "s = '10.0.1.1'\n",
    "print(correctIP(s))\n",
    "#True\n",
    "\n",
    "s = '10.1.1.a'\n",
    "print(correctIP(s))\n",
    "#False\n",
    "\n",
    "s = '10.1.1.260'\n",
    "print(correctIP(s))\n",
    "#False\n",
    "\n",
    "s = '10.0023.0123.0000015'\n",
    "print(correctIP(s))\n",
    "#True"
   ]
  },
  {
   "cell_type": "markdown",
   "metadata": {
    "id": "II8v6FSO6aoD"
   },
   "source": [
    "**Задача 10. Приемлемый пароль**\n",
    "\n",
    "Хороший пароль по условиям этой задачи состоит как минимум из 7 символов, содержит хотя бы одну цифру, заглавную и строчную букву. Напишите программу со встроенной функцией any() для определения хорош ли введенный пароль.\n",
    "\n",
    "Программа должна вывести YES, если строка – хороший пароль, и NO в противном случае."
   ]
  },
  {
   "cell_type": "code",
   "execution_count": 13,
   "metadata": {
    "id": "4EVd1RL06aoG"
   },
   "outputs": [
    {
     "name": "stdout",
     "output_type": "stream",
     "text": [
      "YES\n",
      "NO\n",
      "NO\n"
     ]
    }
   ],
   "source": [
    "def correctPass(password):\n",
    "    if len(password) >= 7 and any(i.isdigit() for i in password) and any(i.islower() for i in password) and any(i.isupper() for i in password):\n",
    "        return 'YES'\n",
    "    return 'NO'\n",
    "# Примеры ввода / вывода:\n",
    "\n",
    "print(correctPass('abcABC9'))\n",
    "#abcABC9\n",
    "#YES\n",
    "\n",
    "print(correctPass('abAB34'))\n",
    "#abAB34\n",
    "#NO\n",
    "\n",
    "print(correctPass('DFSDFSDFSDsdfjsdfnsm'))\n",
    "#DFSDFSDFSDsdfjsdfnsm\n",
    "#NO"
   ]
  },
  {
   "cell_type": "markdown",
   "metadata": {
    "id": "Dur4QFtbEo8A"
   },
   "source": [
    "**Задача 11. Отличие ровно в 1 позиции**\n",
    "\n",
    "Напишите функцию is_one_away(word1, word2), которая принимает в качестве аргументов два слова word1 и word2 и возвращает значение True, если слова имеют одинаковую длину и отличаются ровно в одном символе, или значение False в противном случае.\n",
    "\n",
    "**Примечание.** Если слова одинаковые, то False"
   ]
  },
  {
   "cell_type": "code",
   "execution_count": null,
   "metadata": {
    "id": "jS8BzumPEo8B"
   },
   "outputs": [
    {
     "name": "stdout",
     "output_type": "stream",
     "text": [
      "3\n",
      "True\n",
      "4\n",
      "True\n",
      "2\n",
      "False\n",
      "4\n",
      "False\n",
      "2\n",
      "True\n"
     ]
    },
    {
     "data": {
      "text/plain": [
       "False"
      ]
     },
     "execution_count": 3,
     "metadata": {},
     "output_type": "execute_result"
    }
   ],
   "source": [
    "def is_one_away(word1, word2):\n",
    "    word1 = set(word1)\n",
    "    word2 = set(word2)\n",
    "    if len(word1) == len(word2) and len(word1) - len(word1.intersection(word2)) <= 1:\n",
    "        return True\n",
    "    return False\n",
    "\n",
    "# Следующий программный код:\n",
    "\n",
    "print(is_one_away('bike', 'hike'))\n",
    "print(is_one_away('water', 'wafer'))\n",
    "print(is_one_away('abcd', 'abpo'))\n",
    "print(is_one_away('abcd', 'abcde'))\n",
    "print(is_one_away('aab', 'aba'))\n",
    "\n",
    "# Должен выводить:\n",
    "\n",
    "True\n",
    "True\n",
    "False\n",
    "False\n",
    "False"
   ]
  },
  {
   "cell_type": "markdown",
   "metadata": {
    "id": "W6FLWw7LDrIm"
   },
   "source": [
    "**Задача 12. Змеиный регистр**\n",
    "\n",
    "Напишите функцию convert_to_python_case(text), которая принимает в качестве аргумента строку в «верблюжьем регистре» (ThisIsCamelCased) и преобразует его в «змеиный регистр» (this_is_snake_cased)."
   ]
  },
  {
   "cell_type": "code",
   "execution_count": 66,
   "metadata": {
    "id": "ttKTHw1YDrIm"
   },
   "outputs": [
    {
     "name": "stdout",
     "output_type": "stream",
     "text": [
      "this_is_camel_cased\n",
      "is_prime_number\n",
      "f_b_i_is_watching_you\n"
     ]
    }
   ],
   "source": [
    "def up(x):\n",
    "    return x.isupper()\n",
    "\n",
    "def convert_to_python_case(text):\n",
    "    ntext = \"\".join(list(filter(up, text)))\n",
    "    for i in ntext:\n",
    "        text = text.replace(i, '_' + i.lower())\n",
    "    text = text.replace('_', '', 1)\n",
    "    return text\n",
    "\n",
    "# Следующий программный код:\n",
    "\n",
    "print(convert_to_python_case('ThisIsCamelCased'))\n",
    "print(convert_to_python_case('IsPrimeNumber'))\n",
    "print(convert_to_python_case('FBIIsWatchingYou'))\n",
    "\n",
    "# Должен выводить:\n",
    "\n",
    "#this_is_camel_cased\n",
    "#is_prime_number\n",
    "#f_b_i_is_watching_you"
   ]
  },
  {
   "cell_type": "markdown",
   "metadata": {
    "id": "m1sYKk6vIK9S"
   },
   "source": [
    "**Задача 13. Параллельная иттерация**\n",
    "\n",
    "Используя параллельную итерацию сразу по трем спискам countries, capitals и population выведите информацию о стране в формате:"
   ]
  },
  {
   "cell_type": "code",
   "execution_count": null,
   "metadata": {
    "id": "wHcR-873IK9S"
   },
   "outputs": [],
   "source": [
    "<capital> is the capital of <country>, population equal <population> people.\n",
    "\n",
    "\n",
    "Moscow is the capital of Russia, population equal 145934462 people.\n",
    "Washington is the capital of USA, population equal 331002651 people.\n",
    "..."
   ]
  },
  {
   "cell_type": "code",
   "execution_count": 6,
   "metadata": {
    "id": "r5G8YkK1Iac6"
   },
   "outputs": [
    {
     "name": "stdout",
     "output_type": "stream",
     "text": [
      "Moscow is the capital of Russia, population equal 145934462 people.\n",
      "Washington is the capital of USA, population equal 331002651 people.\n",
      "London is the capital of UK, population equal 80345321 people.\n",
      "Berlin is the capital of Germany, population equal 67886011 people.\n",
      "Paris is the capital of France, population equal 65273511 people.\n",
      "Delhi is the capital of India, population equal 1380004385 people.\n"
     ]
    }
   ],
   "source": [
    "countries = ['Russia', 'USA', 'UK', 'Germany', 'France', 'India']\n",
    "capitals = ['Moscow', 'Washington', 'London', 'Berlin', 'Paris', 'Delhi']\n",
    "populations = [145_934_462, 331_002_651, 80_345_321, 67_886_011, 65_273_511, 1_380_004_385]\n",
    "\n",
    "for block in zip(countries, capitals, populations):\n",
    "    country, capital, population = block\n",
    "    print(f'{capital} is the capital of {country}, population equal {population} people.')"
   ]
  }
 ],
 "metadata": {
  "colab": {
   "provenance": []
  },
  "kernelspec": {
   "display_name": "Python 3",
   "name": "python3"
  },
  "language_info": {
   "codemirror_mode": {
    "name": "ipython",
    "version": 3
   },
   "file_extension": ".py",
   "mimetype": "text/x-python",
   "name": "python",
   "nbconvert_exporter": "python",
   "pygments_lexer": "ipython3",
   "version": "3.13.2"
  }
 },
 "nbformat": 4,
 "nbformat_minor": 0
}

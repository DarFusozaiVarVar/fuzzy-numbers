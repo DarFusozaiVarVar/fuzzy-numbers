{
 "cells": [
  {
   "cell_type": "markdown",
   "metadata": {
    "id": "XKp1mdbks6RI"
   },
   "source": [
    "# Задачи раздел 4 (модуль 1)"
   ]
  },
  {
   "cell_type": "markdown",
   "metadata": {
    "id": "SV5MyTXgIgEC"
   },
   "source": [
    "**Необходимый минимум: 10 любых задач**"
   ]
  },
  {
   "cell_type": "markdown",
   "metadata": {
    "id": "WgHJ6vdxs-uv"
   },
   "source": [
    "**Задача 1. Страны и города**\n",
    "\n",
    "На вход программе подается список стран и городов каждой страны. Затем даны названия городов. Напишите программу, которая для каждого города выводит, в какой стране он находится.\n",
    "\n",
    "**Формат входных данных**\n",
    "Программа получает на вход количество стран n. Далее идет n строк, каждая строка начинается с названия страны, затем идут названия городов этой страны. В следующей строке записано число m, далее идут m запросов — названия каких-то\n",
    "m городов, из перечисленных выше."
   ]
  },
  {
   "cell_type": "code",
   "execution_count": null,
   "metadata": {
    "id": "WqDXtH7cs5mU"
   },
   "outputs": [],
   "source": [
    "# Пример ввода:\n",
    "\n",
    "2\n",
    "Германия Берлин Мюнхен Гамбург Дортмунд\n",
    "Нидерланды Амстердам Гаага Роттердам Алкмар\n",
    "4\n",
    "Амстердам\n",
    "Алкмар\n",
    "Гамбург\n",
    "Гаага\n",
    "\n",
    "# Необходимый вывод:\n",
    "Нидерланды\n",
    "Нидерланды\n",
    "Германия\n",
    "Нидерланды"
   ]
  },
  {
   "cell_type": "code",
   "execution_count": 17,
   "metadata": {
    "id": "jMVhW2tHqUGW"
   },
   "outputs": [
    {
     "name": "stdout",
     "output_type": "stream",
     "text": [
      "Нидерланды\n",
      "Нидерланды\n",
      "Германия\n",
      "Нидерланды\n"
     ]
    }
   ],
   "source": [
    "n = int(input())\n",
    "Countries = []\n",
    "for i in range(0, n):\n",
    "    a = input().split()\n",
    "    Countries.append((a[0], a[1:]))\n",
    "Countries = dict(Countries)\n",
    "\n",
    "m = int(input())\n",
    "for i in range(0, m):\n",
    "    a = input()\n",
    "    for key, value in Countries.items():\n",
    "        if a in value:\n",
    "            print(key)\n",
    "            break"
   ]
  },
  {
   "cell_type": "markdown",
   "metadata": {
    "id": "kopvo9BOqWLz"
   },
   "source": [
    "**Задача 2. Самое редкое слово**\n",
    "\n",
    "На вход программе подается строка текста. Напишите программу, которая выводит слово, которое встречается реже всего, без учета регистра. Если таких слов несколько, выведите то, которое меньше в лексикографическом порядке.\n",
    "\n",
    "**Формат входных данных**\n",
    "На вход программе подается строка текста."
   ]
  },
  {
   "cell_type": "code",
   "execution_count": null,
   "metadata": {
    "id": "6GsYOSqdqWLz"
   },
   "outputs": [],
   "source": [
    "# Пример ввода:\n",
    "\n",
    "London is the capital of Great Britain. More than six million people live in London. London lies on both banks of the river Thames. It is the largest city in Europe and one of the largest cities in the world. London is not only the capital of the country, it is also a very big port, one of the greatest commercial centres in the world, a university city, and the seat of the government of Great Britain!\n",
    "\n",
    "# Необходимый вывод:\n",
    "also"
   ]
  },
  {
   "cell_type": "code",
   "execution_count": null,
   "metadata": {
    "id": "xzIeYKzBuFQg"
   },
   "outputs": [
    {
     "name": "stdout",
     "output_type": "stream",
     "text": [
      "{'london': 4, 'is': 4, 'the': 11, 'capital': 2, 'of': 7, 'great': 2, 'britain': 2, 'more': 1, 'than': 1, 'six': 1, 'million': 1, 'people': 1, 'live': 1, 'in': 4, 'lies': 1, 'on': 1, 'both': 1, 'banks': 1, 'river': 1, 'thames': 1, 'it': 2, 'largest': 2, 'city': 2, 'europe': 1, 'and': 2, 'one': 2, 'cities': 1, 'world': 2, 'not': 1, 'only': 1, 'country': 1, 'also': 1, 'a': 2, 'very': 1, 'big': 1, 'port': 1, 'greatest': 1, 'commercial': 1, 'centres': 1, 'university': 1, 'seat': 1, 'government': 1}\n",
      "more\n"
     ]
    }
   ],
   "source": [
    "import re\n",
    "\n",
    "input_str = re.sub(r'[^\\w\\s]','', input().lower()).split()\n",
    "input_str = dict([(i, input_str.count(i)) for i in input_str])\n",
    "print(input_str)\n",
    "\n",
    "minimal = min(input_str, key=input_str.get) #доделать\n",
    "\n",
    "print(minimal)"
   ]
  },
  {
   "cell_type": "markdown",
   "metadata": {
    "id": "iuUnzo9IuFh3"
   },
   "source": [
    "**Задача 3. Словарь синонимов**\n",
    "\n",
    "Вам дан словарь, состоящий из пар слов-синонимов. Повторяющихся слов в словаре нет. Напишите программу, которая для одного данного слова определяет его синоним.\n",
    "\n",
    "\n",
    "**Формат входных данных**\n",
    "На вход программе подается количество пар синонимов n. Далее следует n строк, каждая строка содержит два слова-синонима. После этого следует одно слово, синоним которого надо найти."
   ]
  },
  {
   "cell_type": "code",
   "execution_count": null,
   "metadata": {
    "id": "GDProF3VuFh3"
   },
   "outputs": [],
   "source": [
    "# Пример ввода:\n",
    "\n",
    "4\n",
    "Awful Terrible\n",
    "Beautiful Pretty\n",
    "Great Excellent\n",
    "Generous Bountiful\n",
    "Pretty\n",
    "\n",
    "# Необходимый вывод:\n",
    "Beautiful"
   ]
  },
  {
   "cell_type": "code",
   "execution_count": null,
   "metadata": {
    "id": "tPlbWYJUuhdd"
   },
   "outputs": [],
   "source": []
  },
  {
   "cell_type": "markdown",
   "metadata": {
    "id": "nuvPxq5WuiLY"
   },
   "source": [
    "**Задача 4. Функция spell()**\n",
    "\n",
    "Реализуйте функцию spell(), которая принимает произвольное количество позиционных аргументов-слов и возвращает словарь, ключи которого — первые буквы слов, а значения — максимальные длины слов на эту букву.\n",
    "\n",
    "**Примечание 1.** Если в функцию не передается ни одного аргумента, функция должна возвращать пустой словарь.\n",
    "\n",
    "**Примечание 2.** Функция должна игнорировать регистр слов, при этом в результирующий словарь должны попасть именно буквы в нижнем регистре."
   ]
  },
  {
   "cell_type": "code",
   "execution_count": null,
   "metadata": {
    "id": "SrB8dYPPuiLZ"
   },
   "outputs": [],
   "source": [
    "# Код:\n",
    "\n",
    "print(spell('Математика', 'История', 'химия', 'биология', 'Информатика'))\n",
    "\n",
    "# должен выводить:\n",
    "{'м': 10, 'и': 11, 'х': 5, 'б': 8}"
   ]
  },
  {
   "cell_type": "code",
   "execution_count": null,
   "metadata": {
    "id": "tQMDqFzavKxg"
   },
   "outputs": [],
   "source": []
  },
  {
   "cell_type": "markdown",
   "metadata": {
    "id": "czg4qlBQvNN1"
   },
   "source": [
    "**Задача 5. Вложенный словарь**\n",
    "\n",
    "Даны три списка student_ids, student_names, student_grades, содержащие информацию о студентах.\n",
    "\n",
    "Дополните приведенный код, используя генератор, так чтобы получить список result, содержащий вложенные словари в соответствии с образцом: [{'S001': {'Camila Rodriguez': 86}}, {'S002': {'Juan Cruz': 98}},...].\n",
    "\n",
    "**Примечание** Для параллельной итерации по всем трем спискам одновременно можно использовать встроенную функцию zip()."
   ]
  },
  {
   "cell_type": "code",
   "execution_count": null,
   "metadata": {
    "id": "0TYylAFKvNN2"
   },
   "outputs": [],
   "source": [
    "student_ids = ['S001', 'S002', 'S003', 'S004', 'S005', 'S006', 'S007', 'S008', 'S009', 'S010', 'S011', 'S012', 'S013']\n",
    "student_names = ['Camila Rodriguez', 'Juan Cruz', 'Dan Richards', 'Sam Boyle', 'Batista Cesare', 'Francesco Totti', 'Khalid Hussain', 'Ethan Hawke', 'David Bowman', 'James Milner', 'Michael Owen', 'Gary Oldman', 'Tom Hardy']\n",
    "student_grades = [86, 98, 89, 92, 45, 67, 89, 90, 100, 98, 10, 96, 93]\n"
   ]
  },
  {
   "cell_type": "code",
   "execution_count": null,
   "metadata": {
    "id": "gCrBdro5vNN2"
   },
   "outputs": [],
   "source": []
  },
  {
   "cell_type": "markdown",
   "metadata": {
    "id": "JGmWcFlxvpAY"
   },
   "source": [
    "**Задача 6. Исправление дубликатов**\n",
    "\n",
    "На вход программе подается строка, содержащая строки-идентификаторы. Напишите программу, которая исправляет их так, чтобы в результирующей строке не было дубликатов. Для этого необходимо прибавлять к повторяющимся идентификаторам постфикс _n, где n – количество раз, сколько такой идентификатор уже встречался.\n",
    "\n",
    "**Формат входных данных**\n",
    "На вход программе подается строка текста, содержащая строки-идентификаторы, разделенные символом пробела."
   ]
  },
  {
   "cell_type": "code",
   "execution_count": null,
   "metadata": {
    "id": "38FGKfodvpAZ"
   },
   "outputs": [],
   "source": [
    "# Пример ввода:\n",
    "a b c a a d c\n",
    "\n",
    "# Необходимый вывод:\n",
    "a b c a_1 a_2 d c_1"
   ]
  },
  {
   "cell_type": "code",
   "execution_count": null,
   "metadata": {
    "id": "JiCcfJi3vpAZ"
   },
   "outputs": [],
   "source": []
  },
  {
   "cell_type": "markdown",
   "metadata": {
    "id": "_rmSfthxwAIa"
   },
   "source": [
    "**Задача 7. Анаграммы**\n",
    "\n",
    "На вход программе подаются два предложения. Напишите программу, которая определяет, являются они анаграммами или нет. Ваша программа должна игнорировать регистр символов, знаки препинания и пробелы.\n",
    "Программа должна вывести YES , если предложения – анаграммы и NO в противном случае.\n",
    "\n",
    "**Формат входных данных**\n",
    "На вход программе подаются два предложения, каждое на отдельной строке.\n",
    "\n",
    "**Примечание.** Кроме слов в тексте могут присутствовать пробелы и знаки препинания .,!?:;-. Других символов в тексте нет."
   ]
  },
  {
   "cell_type": "code",
   "execution_count": null,
   "metadata": {
    "id": "o531Gc4lwAIb"
   },
   "outputs": [],
   "source": [
    "# Пример ввода:\n",
    "William Shakespeare\n",
    "I am a weakish: speller,\n",
    "\n",
    "# Необходимый вывод:\n",
    "YES\n",
    "\n",
    "# Пример ввода:\n",
    "qwerty uiwq\n",
    "ryteiq onrw\n",
    "\n",
    "# Необходимый вывод:\n",
    "NO"
   ]
  },
  {
   "cell_type": "code",
   "execution_count": null,
   "metadata": {
    "id": "3n7BbMwXwAIb"
   },
   "outputs": [],
   "source": []
  },
  {
   "cell_type": "markdown",
   "metadata": {
    "id": "FUP-mcpmwc2D"
   },
   "source": [
    "**Задача 8. Телефонный справочник**\n",
    "\n",
    "В справочник записаны телефоны роазличных людей, чтобы автоматизировать поиск нужного номера. У каждого человека может быть один или более телефонных номеров. Напишите программу, которая поможет находить все номера определённого человека.\n",
    "\n",
    "**Формат входных данных**\n",
    "В первой строке задано одно целое число n — количество номеров телефонов, информацию о которых сохранили в телефонной книге. В следующих n строках заданы телефоны и имена их владельцев через пробел. В следующей строке записано целое число m — количество поисковых запросов. В следующих m строках записаны сами запросы, по одному на строке. Каждый запрос — это имя человека, чьи телефоны надо найти.\n",
    "\n",
    "**Формат выходных данных**\n",
    "Для каждого запроса выведите в отдельной строке все телефоны, принадлежащие человеку с этим именем (независимо от регистра имени). Если в телефонной книге нет телефонов человека с таким именем, выведите в соответствующей строке «абонент не найден».\n",
    "\n",
    "**Примечание 1.** Телефоны одного человека выводите в одну строку через пробел в том порядке, в каком они были заданы во входных данных.\n",
    "\n",
    "**Примечание 2.** Количество строк в ответе должно быть равно числу m.\n",
    "\n",
    "**Примечание 3.** Телефон — это несколько цифр, записанных подряд, а имя может состоять из букв русского или английского алфавита. Записи не повторяются."
   ]
  },
  {
   "cell_type": "code",
   "execution_count": null,
   "metadata": {
    "id": "of2u9PFnwc2D"
   },
   "outputs": [],
   "source": [
    "# Пример ввода:\n",
    "3\n",
    "79184219577 Женя\n",
    "79194249271 Руслан\n",
    "79281234567 Женя\n",
    "3\n",
    "Руслан\n",
    "женя\n",
    "Рустам\n",
    "\n",
    "# Необходимый вывод:\n",
    "79194249271\n",
    "79184219577 79281234567\n",
    "абонент не найден\n",
    "\n",
    "# Пример ввода:\n",
    "4\n",
    "45343409024 Andrey\n",
    "332313113 Andrey\n",
    "3232329053939 Andrey\n",
    "323890402321 Nikita\n",
    "1\n",
    "Andrey\n",
    "\n",
    "# Необходимый вывод:\n",
    "45343409024 332313113 3232329053939"
   ]
  },
  {
   "cell_type": "code",
   "execution_count": null,
   "metadata": {
    "id": "WPReDWIOwc2D"
   },
   "outputs": [],
   "source": []
  },
  {
   "cell_type": "markdown",
   "metadata": {
    "id": "v8w75jTwxi1Q"
   },
   "source": [
    "**Задача 9. Секретное слово**\n",
    "\n",
    "Напишите программу для расшифровки секретного слова методом частотного анализа.\n",
    "\n",
    "**Формат входных данных**\n",
    "В первой строке задано зашифрованное слово. Во второй строке задано одно целое число n – количество букв в словаре. В следующих n строках записано, сколько раз конкретная буква алфавита встречается в этом слове – <буква>: <частота>.\n",
    "Программа должна вывести дешифрованное слово.\n",
    "\n",
    "**Примечание. **Гарантируется, что частоты букв не повторяются."
   ]
  },
  {
   "cell_type": "code",
   "execution_count": null,
   "metadata": {
    "id": "7-_CMvn0xi1Q"
   },
   "outputs": [],
   "source": [
    "# Пример ввода:\n",
    "*!*!*?\n",
    "3\n",
    "а: 3\n",
    "н: 2\n",
    "с: 1\n",
    "\n",
    "# Необходимый вывод:\n",
    "ананас\n",
    "\n",
    "# Пример ввода:\n",
    "zpwzpz\n",
    "3\n",
    "б: 3\n",
    "а: 2\n",
    "о: 1\n",
    "\n",
    "# Необходимый вывод:\n",
    "баобаб"
   ]
  },
  {
   "cell_type": "code",
   "execution_count": null,
   "metadata": {
    "id": "t2U6Dig2xi1Q"
   },
   "outputs": [],
   "source": []
  },
  {
   "cell_type": "markdown",
   "metadata": {
    "id": "HlM_MOH9x-MV"
   },
   "source": [
    "**Задача 10. Слияние словарей**\n",
    "\n",
    "Напишите функцию merge(), объединяющую словари в один общий. Функция должна принимать список словарей и возвращать словарь, каждый ключ которого содержит множество (тип данных set) уникальных значений собранных из всех словарей переданного списка."
   ]
  },
  {
   "cell_type": "code",
   "execution_count": null,
   "metadata": {
    "id": "YQb4eeGLx-MW"
   },
   "outputs": [],
   "source": [
    "# Код:\n",
    "\n",
    "result = merge([{'a': 1, 'b': 2}, {'b': 10, 'c': 100}, {'a': 1, 'b': 17, 'c': 50}, {'a': 5, 'd': 777}])\n",
    "\n",
    "# должен создавать словарь:\n",
    "result = {'a': {1, 5}, 'b': {2, 10, 17}, 'c': {50, 100}, 'd': {777}}"
   ]
  },
  {
   "cell_type": "code",
   "execution_count": null,
   "metadata": {
    "id": "NwME1fd6x-MW"
   },
   "outputs": [],
   "source": []
  },
  {
   "cell_type": "markdown",
   "metadata": {
    "id": "5gu3H-niycWO"
   },
   "source": [
    "**Задача 11. Разные типы**\n",
    "\n",
    "На вход программе подается список различных объектов. Напишите программу, которая создает список, элементами которого являются объекты из первоначального списка, измененные по следующим правилам:\n",
    "\n",
    "* если объект является строкой, в его конец добавляется восклицательный знак\n",
    "* если объект является числом, он увеличивается на единицу\n",
    "* если объект является логическим значением, он инвертируется\n",
    "* если объект является списком, он удваивается\n",
    "* если объект является словарем, в него добавляется новая пара \"newkey\": True\n",
    "* если объект является пустым значением (None), он не добавляется\n",
    "\n"
   ]
  },
  {
   "cell_type": "code",
   "execution_count": null,
   "metadata": {
    "id": "YUGIRAXvycWO"
   },
   "outputs": [],
   "source": [
    "# Список\n",
    "\n",
    "[\"Hello\", 179, True, None, [1, 2, 3], {\"key\": \"value\"}]\n",
    "\n",
    "# должен превратиться в:\n",
    "[\"Hello!\", 180, False, [1, 2, 3, 1, 2, 3], {\"key\": \"value\", \"newkey\": True}]"
   ]
  },
  {
   "cell_type": "code",
   "execution_count": null,
   "metadata": {
    "id": "W2deX5fZycWO"
   },
   "outputs": [],
   "source": []
  }
 ],
 "metadata": {
  "colab": {
   "provenance": []
  },
  "kernelspec": {
   "display_name": "Python 3",
   "name": "python3"
  },
  "language_info": {
   "codemirror_mode": {
    "name": "ipython",
    "version": 3
   },
   "file_extension": ".py",
   "mimetype": "text/x-python",
   "name": "python",
   "nbconvert_exporter": "python",
   "pygments_lexer": "ipython3",
   "version": "3.13.2"
  }
 },
 "nbformat": 4,
 "nbformat_minor": 0
}
